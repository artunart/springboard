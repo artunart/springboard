{
 "cells": [
  {
   "cell_type": "markdown",
   "id": "5622e1d4",
   "metadata": {},
   "source": [
    "<h1>Relax Take-Home Challenge</h1>"
   ]
  },
  {
   "cell_type": "markdown",
   "id": "a9751134",
   "metadata": {},
   "source": [
    "<h2>Context and Data Notes</h2>\n",
    "\n",
    "Relax Inc. makes productivity and project management software that's popular with both individuals and teams. \n",
    "\n",
    "1] A user table (\"takehome_users\") with data on 12,000 users who signed up for the product in the last two years. This table includes:\n",
    "<li>name: the user's name\n",
    "<li>object_id: the user's id\n",
    "<li>email: email address\n",
    "<li>creation_source: how their account was created. This takes on one of 5 values: <br />\n",
    "     -PERSONAL_PROJECTS: invited to join another user's personal workspace <br    />\n",
    "    -GUEST_INVITE: invited to an organization as a guest (limited permissions) <br />\n",
    "    -ORG_INVITE: invited to an organization (as a full member) <br />\n",
    "    -SIGNUP: signed up via the website <br />\n",
    "    -SIGNUP_GOOGLE_AUTH: signed up using Google Authentication (using a Google email account for their login id) <br />\n",
    "<li>creation_time: when they created their account\n",
    "<li>last_session_creation_time: unix timestamp of last login\n",
    "<li>opted_in_to_mailing_list: whether they have opted into receiving marketing emails\n",
    "<li>enabled_for_marketing_drip: whether they are on the regular\n",
    "marketing email drip\n",
    "<li>org_id: the organization (group of users) they belong to\n",
    "<li>invited_by_user_id: which user invited them to join (if applicable).\n",
    "<br /><br />\n",
    "2] A usage summary table (\"takehome_user_engagement\") that has a row for each day that a user logged into the product.\n",
    "Defining an \"adopted user\" as a user who has logged into the product on three separate days in at least one seven-day period, **identify which factors predict future user adoption**.\n",
    "<br /><br />\n",
    "We suggest spending 1-2 hours on this, but you're welcome to spend more or less. Please send us a brief writeup of your findings (the more concise, the better - no more than one page), along with any summary tables, graphs, code, or queries that can help us understand your approach. Please note any factors you considered or investigation you did, even if they did not pan out. Feel free to identify any further research or data you think would be valuable."
   ]
  },
  {
   "cell_type": "code",
   "execution_count": 1,
   "id": "564dc35f",
   "metadata": {},
   "outputs": [],
   "source": [
    "#import packages\n",
    "import numpy as np\n",
    "import pandas as pd\n",
    "import matplotlib.pyplot as plt\n",
    "import seaborn as sns\n",
    "from scipy.stats import chi2_contingency"
   ]
  },
  {
   "cell_type": "markdown",
   "id": "bd32863b",
   "metadata": {},
   "source": [
    "<h2>Exploratory Data Analysis</h2>\n",
    "\n",
    "\n",
    "<h4>Import User and Engagement Data</h4>"
   ]
  },
  {
   "cell_type": "code",
   "execution_count": 2,
   "id": "54fdaa2a",
   "metadata": {
    "tags": []
   },
   "outputs": [
    {
     "data": {
      "text/html": [
       "<div>\n",
       "<style scoped>\n",
       "    .dataframe tbody tr th:only-of-type {\n",
       "        vertical-align: middle;\n",
       "    }\n",
       "\n",
       "    .dataframe tbody tr th {\n",
       "        vertical-align: top;\n",
       "    }\n",
       "\n",
       "    .dataframe thead th {\n",
       "        text-align: right;\n",
       "    }\n",
       "</style>\n",
       "<table border=\"1\" class=\"dataframe\">\n",
       "  <thead>\n",
       "    <tr style=\"text-align: right;\">\n",
       "      <th></th>\n",
       "      <th>object_id</th>\n",
       "      <th>creation_time</th>\n",
       "      <th>name</th>\n",
       "      <th>email</th>\n",
       "      <th>creation_source</th>\n",
       "      <th>last_session_creation_time</th>\n",
       "      <th>opted_in_to_mailing_list</th>\n",
       "      <th>enabled_for_marketing_drip</th>\n",
       "      <th>org_id</th>\n",
       "      <th>invited_by_user_id</th>\n",
       "    </tr>\n",
       "  </thead>\n",
       "  <tbody>\n",
       "    <tr>\n",
       "      <th>0</th>\n",
       "      <td>1</td>\n",
       "      <td>2014-04-22 03:53:30</td>\n",
       "      <td>Clausen August</td>\n",
       "      <td>AugustCClausen@yahoo.com</td>\n",
       "      <td>GUEST_INVITE</td>\n",
       "      <td>1.398139e+09</td>\n",
       "      <td>1</td>\n",
       "      <td>0</td>\n",
       "      <td>11</td>\n",
       "      <td>10803.0</td>\n",
       "    </tr>\n",
       "    <tr>\n",
       "      <th>1</th>\n",
       "      <td>2</td>\n",
       "      <td>2013-11-15 03:45:04</td>\n",
       "      <td>Poole Matthew</td>\n",
       "      <td>MatthewPoole@gustr.com</td>\n",
       "      <td>ORG_INVITE</td>\n",
       "      <td>1.396238e+09</td>\n",
       "      <td>0</td>\n",
       "      <td>0</td>\n",
       "      <td>1</td>\n",
       "      <td>316.0</td>\n",
       "    </tr>\n",
       "    <tr>\n",
       "      <th>2</th>\n",
       "      <td>3</td>\n",
       "      <td>2013-03-19 23:14:52</td>\n",
       "      <td>Bottrill Mitchell</td>\n",
       "      <td>MitchellBottrill@gustr.com</td>\n",
       "      <td>ORG_INVITE</td>\n",
       "      <td>1.363735e+09</td>\n",
       "      <td>0</td>\n",
       "      <td>0</td>\n",
       "      <td>94</td>\n",
       "      <td>1525.0</td>\n",
       "    </tr>\n",
       "    <tr>\n",
       "      <th>3</th>\n",
       "      <td>4</td>\n",
       "      <td>2013-05-21 08:09:28</td>\n",
       "      <td>Clausen Nicklas</td>\n",
       "      <td>NicklasSClausen@yahoo.com</td>\n",
       "      <td>GUEST_INVITE</td>\n",
       "      <td>1.369210e+09</td>\n",
       "      <td>0</td>\n",
       "      <td>0</td>\n",
       "      <td>1</td>\n",
       "      <td>5151.0</td>\n",
       "    </tr>\n",
       "    <tr>\n",
       "      <th>4</th>\n",
       "      <td>5</td>\n",
       "      <td>2013-01-17 10:14:20</td>\n",
       "      <td>Raw Grace</td>\n",
       "      <td>GraceRaw@yahoo.com</td>\n",
       "      <td>GUEST_INVITE</td>\n",
       "      <td>1.358850e+09</td>\n",
       "      <td>0</td>\n",
       "      <td>0</td>\n",
       "      <td>193</td>\n",
       "      <td>5240.0</td>\n",
       "    </tr>\n",
       "  </tbody>\n",
       "</table>\n",
       "</div>"
      ],
      "text/plain": [
       "   object_id        creation_time               name  \\\n",
       "0          1  2014-04-22 03:53:30     Clausen August   \n",
       "1          2  2013-11-15 03:45:04      Poole Matthew   \n",
       "2          3  2013-03-19 23:14:52  Bottrill Mitchell   \n",
       "3          4  2013-05-21 08:09:28    Clausen Nicklas   \n",
       "4          5  2013-01-17 10:14:20          Raw Grace   \n",
       "\n",
       "                        email creation_source  last_session_creation_time  \\\n",
       "0    AugustCClausen@yahoo.com    GUEST_INVITE                1.398139e+09   \n",
       "1      MatthewPoole@gustr.com      ORG_INVITE                1.396238e+09   \n",
       "2  MitchellBottrill@gustr.com      ORG_INVITE                1.363735e+09   \n",
       "3   NicklasSClausen@yahoo.com    GUEST_INVITE                1.369210e+09   \n",
       "4          GraceRaw@yahoo.com    GUEST_INVITE                1.358850e+09   \n",
       "\n",
       "   opted_in_to_mailing_list  enabled_for_marketing_drip  org_id  \\\n",
       "0                         1                           0      11   \n",
       "1                         0                           0       1   \n",
       "2                         0                           0      94   \n",
       "3                         0                           0       1   \n",
       "4                         0                           0     193   \n",
       "\n",
       "   invited_by_user_id  \n",
       "0             10803.0  \n",
       "1               316.0  \n",
       "2              1525.0  \n",
       "3              5151.0  \n",
       "4              5240.0  "
      ]
     },
     "execution_count": 2,
     "metadata": {},
     "output_type": "execute_result"
    }
   ],
   "source": [
    "users_df = pd.read_csv(\"takehome_users.csv\")\n",
    "users_df.head()"
   ]
  },
  {
   "cell_type": "code",
   "execution_count": 3,
   "id": "689b307c",
   "metadata": {},
   "outputs": [
    {
     "name": "stdout",
     "output_type": "stream",
     "text": [
      "<class 'pandas.core.frame.DataFrame'>\n",
      "RangeIndex: 12000 entries, 0 to 11999\n",
      "Data columns (total 10 columns):\n",
      " #   Column                      Non-Null Count  Dtype  \n",
      "---  ------                      --------------  -----  \n",
      " 0   object_id                   12000 non-null  int64  \n",
      " 1   creation_time               12000 non-null  object \n",
      " 2   name                        12000 non-null  object \n",
      " 3   email                       12000 non-null  object \n",
      " 4   creation_source             12000 non-null  object \n",
      " 5   last_session_creation_time  8823 non-null   float64\n",
      " 6   opted_in_to_mailing_list    12000 non-null  int64  \n",
      " 7   enabled_for_marketing_drip  12000 non-null  int64  \n",
      " 8   org_id                      12000 non-null  int64  \n",
      " 9   invited_by_user_id          6417 non-null   float64\n",
      "dtypes: float64(2), int64(4), object(4)\n",
      "memory usage: 937.6+ KB\n"
     ]
    }
   ],
   "source": [
    "users_df.info()"
   ]
  },
  {
   "cell_type": "code",
   "execution_count": 4,
   "id": "d9fd0087",
   "metadata": {},
   "outputs": [
    {
     "data": {
      "text/html": [
       "<div>\n",
       "<style scoped>\n",
       "    .dataframe tbody tr th:only-of-type {\n",
       "        vertical-align: middle;\n",
       "    }\n",
       "\n",
       "    .dataframe tbody tr th {\n",
       "        vertical-align: top;\n",
       "    }\n",
       "\n",
       "    .dataframe thead th {\n",
       "        text-align: right;\n",
       "    }\n",
       "</style>\n",
       "<table border=\"1\" class=\"dataframe\">\n",
       "  <thead>\n",
       "    <tr style=\"text-align: right;\">\n",
       "      <th></th>\n",
       "      <th>time_stamp</th>\n",
       "      <th>user_id</th>\n",
       "      <th>visited</th>\n",
       "    </tr>\n",
       "  </thead>\n",
       "  <tbody>\n",
       "    <tr>\n",
       "      <th>0</th>\n",
       "      <td>2014-04-22 03:53:30</td>\n",
       "      <td>1</td>\n",
       "      <td>1</td>\n",
       "    </tr>\n",
       "    <tr>\n",
       "      <th>1</th>\n",
       "      <td>2013-11-15 03:45:04</td>\n",
       "      <td>2</td>\n",
       "      <td>1</td>\n",
       "    </tr>\n",
       "    <tr>\n",
       "      <th>2</th>\n",
       "      <td>2013-11-29 03:45:04</td>\n",
       "      <td>2</td>\n",
       "      <td>1</td>\n",
       "    </tr>\n",
       "    <tr>\n",
       "      <th>3</th>\n",
       "      <td>2013-12-09 03:45:04</td>\n",
       "      <td>2</td>\n",
       "      <td>1</td>\n",
       "    </tr>\n",
       "    <tr>\n",
       "      <th>4</th>\n",
       "      <td>2013-12-25 03:45:04</td>\n",
       "      <td>2</td>\n",
       "      <td>1</td>\n",
       "    </tr>\n",
       "  </tbody>\n",
       "</table>\n",
       "</div>"
      ],
      "text/plain": [
       "            time_stamp  user_id  visited\n",
       "0  2014-04-22 03:53:30        1        1\n",
       "1  2013-11-15 03:45:04        2        1\n",
       "2  2013-11-29 03:45:04        2        1\n",
       "3  2013-12-09 03:45:04        2        1\n",
       "4  2013-12-25 03:45:04        2        1"
      ]
     },
     "execution_count": 4,
     "metadata": {},
     "output_type": "execute_result"
    }
   ],
   "source": [
    "eng_df = pd.read_csv(\"takehome_user_engagement.csv\")\n",
    "eng_df.head()"
   ]
  },
  {
   "cell_type": "code",
   "execution_count": 5,
   "id": "7e20a696",
   "metadata": {},
   "outputs": [
    {
     "data": {
      "text/html": [
       "<div>\n",
       "<style scoped>\n",
       "    .dataframe tbody tr th:only-of-type {\n",
       "        vertical-align: middle;\n",
       "    }\n",
       "\n",
       "    .dataframe tbody tr th {\n",
       "        vertical-align: top;\n",
       "    }\n",
       "\n",
       "    .dataframe thead th {\n",
       "        text-align: right;\n",
       "    }\n",
       "</style>\n",
       "<table border=\"1\" class=\"dataframe\">\n",
       "  <thead>\n",
       "    <tr style=\"text-align: right;\">\n",
       "      <th></th>\n",
       "      <th>user_id</th>\n",
       "      <th>visited</th>\n",
       "    </tr>\n",
       "  </thead>\n",
       "  <tbody>\n",
       "    <tr>\n",
       "      <th>count</th>\n",
       "      <td>207917.000000</td>\n",
       "      <td>207917.0</td>\n",
       "    </tr>\n",
       "    <tr>\n",
       "      <th>mean</th>\n",
       "      <td>5913.314197</td>\n",
       "      <td>1.0</td>\n",
       "    </tr>\n",
       "    <tr>\n",
       "      <th>std</th>\n",
       "      <td>3394.941674</td>\n",
       "      <td>0.0</td>\n",
       "    </tr>\n",
       "    <tr>\n",
       "      <th>min</th>\n",
       "      <td>1.000000</td>\n",
       "      <td>1.0</td>\n",
       "    </tr>\n",
       "    <tr>\n",
       "      <th>25%</th>\n",
       "      <td>3087.000000</td>\n",
       "      <td>1.0</td>\n",
       "    </tr>\n",
       "    <tr>\n",
       "      <th>50%</th>\n",
       "      <td>5682.000000</td>\n",
       "      <td>1.0</td>\n",
       "    </tr>\n",
       "    <tr>\n",
       "      <th>75%</th>\n",
       "      <td>8944.000000</td>\n",
       "      <td>1.0</td>\n",
       "    </tr>\n",
       "    <tr>\n",
       "      <th>max</th>\n",
       "      <td>12000.000000</td>\n",
       "      <td>1.0</td>\n",
       "    </tr>\n",
       "  </tbody>\n",
       "</table>\n",
       "</div>"
      ],
      "text/plain": [
       "             user_id   visited\n",
       "count  207917.000000  207917.0\n",
       "mean     5913.314197       1.0\n",
       "std      3394.941674       0.0\n",
       "min         1.000000       1.0\n",
       "25%      3087.000000       1.0\n",
       "50%      5682.000000       1.0\n",
       "75%      8944.000000       1.0\n",
       "max     12000.000000       1.0"
      ]
     },
     "execution_count": 5,
     "metadata": {},
     "output_type": "execute_result"
    }
   ],
   "source": [
    "eng_df.describe()"
   ]
  },
  {
   "cell_type": "code",
   "execution_count": 6,
   "id": "2d9e3497",
   "metadata": {},
   "outputs": [
    {
     "name": "stdout",
     "output_type": "stream",
     "text": [
      "<class 'pandas.core.frame.DataFrame'>\n",
      "RangeIndex: 207917 entries, 0 to 207916\n",
      "Data columns (total 3 columns):\n",
      " #   Column      Non-Null Count   Dtype \n",
      "---  ------      --------------   ----- \n",
      " 0   time_stamp  207917 non-null  object\n",
      " 1   user_id     207917 non-null  int64 \n",
      " 2   visited     207917 non-null  int64 \n",
      "dtypes: int64(2), object(1)\n",
      "memory usage: 4.8+ MB\n"
     ]
    }
   ],
   "source": [
    "eng_df['time_stamp'] = eng_df['time_stamp'].astype('datetime64[ns]').dt.date\n",
    "eng_df.info()"
   ]
  },
  {
   "cell_type": "markdown",
   "id": "7b0d14f7",
   "metadata": {},
   "source": [
    "Let's make sure that some of variables introduced in the introduction are as described:"
   ]
  },
  {
   "cell_type": "code",
   "execution_count": 7,
   "id": "f0731ec0",
   "metadata": {},
   "outputs": [
    {
     "name": "stdout",
     "output_type": "stream",
     "text": [
      "Creation Source Unique Values: ['GUEST_INVITE' 'ORG_INVITE' 'SIGNUP' 'PERSONAL_PROJECTS'\n",
      " 'SIGNUP_GOOGLE_AUTH']\n",
      "Creation Source's Unique Values are as described.\n",
      "\n",
      "\n",
      "Number of days in data where user shown as logged in more than 1 times: 0\n",
      "Daily log data is as described.\n"
     ]
    }
   ],
   "source": [
    "users_df['creation_source'].unique()\n",
    "print(\"Creation Source Unique Values: {}\".format(users_df['creation_source'].unique()))\n",
    "print('Creation Source\\'s Unique Values are as described.')\n",
    "\n",
    "print('\\n')\n",
    "print(\"Number of days in data where user shown as logged in more than 1 times: {}\".format(eng_df[['time_stamp', 'user_id']].duplicated().sum()))\n",
    "print('Daily log data is as described.')"
   ]
  },
  {
   "cell_type": "markdown",
   "id": "4377f9ba",
   "metadata": {},
   "source": [
    "<h4>Create Adoption Variable [Target]</h4>\n",
    "**Observe total user daily log numbers before creating the adoption variable**"
   ]
  },
  {
   "cell_type": "code",
   "execution_count": 8,
   "id": "a8fc9a1c",
   "metadata": {},
   "outputs": [
    {
     "data": {
      "text/html": [
       "<div>\n",
       "<style scoped>\n",
       "    .dataframe tbody tr th:only-of-type {\n",
       "        vertical-align: middle;\n",
       "    }\n",
       "\n",
       "    .dataframe tbody tr th {\n",
       "        vertical-align: top;\n",
       "    }\n",
       "\n",
       "    .dataframe thead th {\n",
       "        text-align: right;\n",
       "    }\n",
       "</style>\n",
       "<table border=\"1\" class=\"dataframe\">\n",
       "  <thead>\n",
       "    <tr style=\"text-align: right;\">\n",
       "      <th></th>\n",
       "      <th>total_logs</th>\n",
       "      <th>count</th>\n",
       "    </tr>\n",
       "  </thead>\n",
       "  <tbody>\n",
       "    <tr>\n",
       "      <th>0</th>\n",
       "      <td>1</td>\n",
       "      <td>6235</td>\n",
       "    </tr>\n",
       "    <tr>\n",
       "      <th>1</th>\n",
       "      <td>2</td>\n",
       "      <td>340</td>\n",
       "    </tr>\n",
       "    <tr>\n",
       "      <th>2</th>\n",
       "      <td>3</td>\n",
       "      <td>241</td>\n",
       "    </tr>\n",
       "    <tr>\n",
       "      <th>3</th>\n",
       "      <td>4</td>\n",
       "      <td>181</td>\n",
       "    </tr>\n",
       "    <tr>\n",
       "      <th>4</th>\n",
       "      <td>5</td>\n",
       "      <td>110</td>\n",
       "    </tr>\n",
       "    <tr>\n",
       "      <th>5</th>\n",
       "      <td>6</td>\n",
       "      <td>85</td>\n",
       "    </tr>\n",
       "    <tr>\n",
       "      <th>6</th>\n",
       "      <td>7</td>\n",
       "      <td>68</td>\n",
       "    </tr>\n",
       "    <tr>\n",
       "      <th>7</th>\n",
       "      <td>8</td>\n",
       "      <td>57</td>\n",
       "    </tr>\n",
       "    <tr>\n",
       "      <th>8</th>\n",
       "      <td>9</td>\n",
       "      <td>48</td>\n",
       "    </tr>\n",
       "    <tr>\n",
       "      <th>9</th>\n",
       "      <td>10</td>\n",
       "      <td>34</td>\n",
       "    </tr>\n",
       "    <tr>\n",
       "      <th>10</th>\n",
       "      <td>11</td>\n",
       "      <td>26</td>\n",
       "    </tr>\n",
       "    <tr>\n",
       "      <th>11</th>\n",
       "      <td>12</td>\n",
       "      <td>29</td>\n",
       "    </tr>\n",
       "    <tr>\n",
       "      <th>12</th>\n",
       "      <td>13</td>\n",
       "      <td>29</td>\n",
       "    </tr>\n",
       "    <tr>\n",
       "      <th>13</th>\n",
       "      <td>14</td>\n",
       "      <td>30</td>\n",
       "    </tr>\n",
       "    <tr>\n",
       "      <th>14</th>\n",
       "      <td>15</td>\n",
       "      <td>13</td>\n",
       "    </tr>\n",
       "    <tr>\n",
       "      <th>15</th>\n",
       "      <td>16</td>\n",
       "      <td>20</td>\n",
       "    </tr>\n",
       "    <tr>\n",
       "      <th>16</th>\n",
       "      <td>17</td>\n",
       "      <td>18</td>\n",
       "    </tr>\n",
       "    <tr>\n",
       "      <th>17</th>\n",
       "      <td>18</td>\n",
       "      <td>18</td>\n",
       "    </tr>\n",
       "    <tr>\n",
       "      <th>18</th>\n",
       "      <td>19</td>\n",
       "      <td>12</td>\n",
       "    </tr>\n",
       "    <tr>\n",
       "      <th>19</th>\n",
       "      <td>20</td>\n",
       "      <td>16</td>\n",
       "    </tr>\n",
       "  </tbody>\n",
       "</table>\n",
       "</div>"
      ],
      "text/plain": [
       "    total_logs  count\n",
       "0            1   6235\n",
       "1            2    340\n",
       "2            3    241\n",
       "3            4    181\n",
       "4            5    110\n",
       "5            6     85\n",
       "6            7     68\n",
       "7            8     57\n",
       "8            9     48\n",
       "9           10     34\n",
       "10          11     26\n",
       "11          12     29\n",
       "12          13     29\n",
       "13          14     30\n",
       "14          15     13\n",
       "15          16     20\n",
       "16          17     18\n",
       "17          18     18\n",
       "18          19     12\n",
       "19          20     16"
      ]
     },
     "execution_count": 8,
     "metadata": {},
     "output_type": "execute_result"
    }
   ],
   "source": [
    "_daily_logs = eng_df[['time_stamp', 'user_id']].groupby(by=['user_id']).count().reset_index()\n",
    "_daily_logs = _daily_logs.groupby(by=['time_stamp']).count().reset_index()\n",
    "_daily_logs.rename(columns = {'time_stamp':'total_logs', 'user_id':'count'}, inplace=True)\n",
    "_daily_logs.head(20)\n"
   ]
  },
  {
   "cell_type": "markdown",
   "id": "327f7b27",
   "metadata": {},
   "source": [
    "**Create the adoption variable [Target]**<br />\n",
    "Adopted user is defined as \"user who has logged into the product on three separate days in at least one seven-day period\"\n",
    "Let's find out the adopted users:"
   ]
  },
  {
   "cell_type": "code",
   "execution_count": 9,
   "id": "0eaf865c",
   "metadata": {},
   "outputs": [
    {
     "data": {
      "text/html": [
       "<div>\n",
       "<style scoped>\n",
       "    .dataframe tbody tr th:only-of-type {\n",
       "        vertical-align: middle;\n",
       "    }\n",
       "\n",
       "    .dataframe tbody tr th {\n",
       "        vertical-align: top;\n",
       "    }\n",
       "\n",
       "    .dataframe thead th {\n",
       "        text-align: right;\n",
       "    }\n",
       "</style>\n",
       "<table border=\"1\" class=\"dataframe\">\n",
       "  <thead>\n",
       "    <tr style=\"text-align: right;\">\n",
       "      <th></th>\n",
       "      <th>user_id</th>\n",
       "      <th>isAdopted</th>\n",
       "    </tr>\n",
       "  </thead>\n",
       "  <tbody>\n",
       "    <tr>\n",
       "      <th>1</th>\n",
       "      <td>2</td>\n",
       "      <td>True</td>\n",
       "    </tr>\n",
       "    <tr>\n",
       "      <th>7</th>\n",
       "      <td>10</td>\n",
       "      <td>True</td>\n",
       "    </tr>\n",
       "    <tr>\n",
       "      <th>12</th>\n",
       "      <td>19</td>\n",
       "      <td>True</td>\n",
       "    </tr>\n",
       "    <tr>\n",
       "      <th>13</th>\n",
       "      <td>20</td>\n",
       "      <td>True</td>\n",
       "    </tr>\n",
       "    <tr>\n",
       "      <th>18</th>\n",
       "      <td>25</td>\n",
       "      <td>True</td>\n",
       "    </tr>\n",
       "  </tbody>\n",
       "</table>\n",
       "</div>"
      ],
      "text/plain": [
       "    user_id  isAdopted\n",
       "1         2       True\n",
       "7        10       True\n",
       "12       19       True\n",
       "13       20       True\n",
       "18       25       True"
      ]
     },
     "execution_count": 9,
     "metadata": {},
     "output_type": "execute_result"
    }
   ],
   "source": [
    "def is_adopted(sr, sep_days=3, over_days=7):\n",
    "    \"\"\"Figure out which users adopted the product. Adoption is True if the service was used sep_days times in an over_days period\"\"\"\n",
    "    sr = pd.to_datetime(sr)\n",
    "    sr = sr.sort_values(ascending=True)\n",
    "    sr = sr.diff().dt.days.astype(float)\n",
    "    sr.iloc[0] = 0\n",
    "    #print(sr)\n",
    "    sr = sr.rolling(window=sep_days-1).sum()\n",
    "    #print(sr)\n",
    "    _ = sr < over_days-1\n",
    "    return _.any()\n",
    "# _daily_logs = eng_df[['time_stamp', 'user_id']].groupby(by=['user_id']).count().reset_index()\n",
    "# print(_daily_logs.sort_values(by=['time_stamp'], ascending=False))\n",
    "# user_filter = eng_df['user_id']==2\n",
    "# sr = eng_df[user_filter]['time_stamp']\n",
    "# print(sr)\n",
    "\n",
    "adopted_df = eng_df[['time_stamp', 'user_id']].groupby(['user_id']).agg(is_adopted).reset_index()\n",
    "adopted_df.rename(columns = {'time_stamp':'isAdopted'}, inplace=True)\n",
    "adopted_df[adopted_df['isAdopted']==True].head()\n",
    "\n"
   ]
  },
  {
   "cell_type": "markdown",
   "id": "7596dfba",
   "metadata": {},
   "source": [
    "**Merge Adoption Status with Users**<br />\n"
   ]
  },
  {
   "cell_type": "code",
   "execution_count": 10,
   "id": "36858ecd",
   "metadata": {},
   "outputs": [
    {
     "data": {
      "text/plain": [
       " 0    7008\n",
       "-1    3177\n",
       " 1    1815\n",
       "Name: isAdopted, dtype: int64"
      ]
     },
     "execution_count": 10,
     "metadata": {},
     "output_type": "execute_result"
    }
   ],
   "source": [
    "df = pd.merge(left= users_df, right = adopted_df, left_on=['object_id'], right_on=['user_id'], how='left')\n",
    "#Map isAdopted: Adopted User = 1, NonAdopted User = 0, NonAdopted and Never Logged = -1\n",
    "adopted_dict = {True:1, False:0, np.nan:-1}\n",
    "df['isAdopted'] = df['isAdopted'].map(lambda x: adopted_dict[x])\n",
    "\n",
    "\n",
    "df['isAdopted'].value_counts()"
   ]
  },
  {
   "cell_type": "markdown",
   "id": "c205c740",
   "metadata": {},
   "source": [
    "<h4>Explore Variables In Users</h4>\n",
    "\n",
    "**Explore: Adoption by Creation Source**<br />"
   ]
  },
  {
   "cell_type": "code",
   "execution_count": 11,
   "id": "e1ad4fb2",
   "metadata": {},
   "outputs": [
    {
     "data": {
      "image/png": "[encoded data removed]",
      "text/plain": [
       "<Figure size 1080x432 with 1 Axes>"
      ]
     },
     "metadata": {
      "needs_background": "light"
     },
     "output_type": "display_data"
    },
    {
     "name": "stdout",
     "output_type": "stream",
     "text": [
      "creation_source  GUEST_INVITE  ORG_INVITE  PERSONAL_PROJECTS    SIGNUP  \\\n",
      "isAdopted                                                                \n",
      "-1                   0.265834    0.250588           0.638086  0.090561   \n",
      " 0                   0.545539    0.602727           0.270962  0.749401   \n",
      " 1                   0.188627    0.146685           0.090952  0.160038   \n",
      "\n",
      "creation_source  SIGNUP_GOOGLE_AUTH  \n",
      "isAdopted                            \n",
      "-1                          0.00000  \n",
      " 0                          0.81444  \n",
      " 1                          0.18556  \n",
      "\n",
      "RC Table:\n",
      " [[ 408.  624.  192.  334.  257.]\n",
      " [1755. 3630. 1919. 1753. 1128.]]\n",
      "\n",
      "Chi2 value: 97.973\n",
      "p-value: 0.00000\n",
      "dof: 4\n",
      "Can reject at 95% confidence the null hypothesis that the adoption rates are equal.\n"
     ]
    }
   ],
   "source": [
    "sns.countplot(data=df, x = 'creation_source', hue='isAdopted', dodge=True)\n",
    "a_by_creation = pd.pivot_table(data = df, index='isAdopted', columns='creation_source', aggfunc='count').replace({np.nan:0})['creation_time']\n",
    "a_by_creation_rate = a_by_creation/(a_by_creation.sum())\n",
    "ax = plt.gca()\n",
    "plt.gca().set_title('Count of Adoption Status by Creation Source')\n",
    "ax.legend(labels=['Never Logged','Logged & Not Adopted','Adopted'])\n",
    "plt.gcf().set_size_inches(15,6)\n",
    "plt.show()\n",
    "print(a_by_creation_rate)\n",
    "\n",
    "\n",
    "_rc_creation_source = np.vstack([a_by_creation.loc[1,:].values, a_by_creation.loc[-1:0,:].sum().values])\n",
    "print('\\nRC Table:\\n {0}\\n'.format(_rc_creation_source))\n",
    "_chi2, _p, _dof, _ex = chi2_contingency(_rc_creation_source)\n",
    "print('Chi2 value: {0:2.3f}\\np-value: {1:1.5f}\\ndof: {2:d}'.format(_chi2, _p, _dof))\n",
    "print('Can reject at 95% confidence the null hypothesis that the adoption rates are equal.')"
   ]
  },
  {
   "cell_type": "markdown",
   "id": "dddbc9f9",
   "metadata": {},
   "source": [
    "**Two points stand out:**\n",
    "<li>Adoption status is nearly constant across creation_source except from those people pulled in for personal porjects - which is lower at around 9% vs the 14-18% rangec compared to other methodologies. (we can reject the equality across methodologies)\n",
    "<li>Logins from people being pulled in also has the highest Never-Logged rate.\n",
    "  \n",
    "    \n",
    "<br/>    Initial Thoughts: Relatively it may not make sense to move forward across this channel.\n"
   ]
  },
  {
   "cell_type": "markdown",
   "id": "ea21741e",
   "metadata": {},
   "source": [
    "**Explore: Adoption by Opting-In to Mailing List**<br />"
   ]
  },
  {
   "cell_type": "code",
   "execution_count": 12,
   "id": "59afb1df",
   "metadata": {},
   "outputs": [
    {
     "data": {
      "image/png": "[encoded data removed]",
      "text/plain": [
       "<Figure size 432x288 with 1 Axes>"
      ]
     },
     "metadata": {
      "needs_background": "light"
     },
     "output_type": "display_data"
    },
    {
     "name": "stdout",
     "output_type": "stream",
     "text": [
      "opted_in_to_mailing_list         0         1\n",
      "isAdopted                                   \n",
      "-1                        0.267488  0.256513\n",
      " 0                        0.584277  0.583166\n",
      " 1                        0.148235  0.160321\n",
      "Chi2 value: 2.464\n",
      "p-value: 0.11652\n",
      "Cannot reject at 95% confidence the null hypothesis that the rates are equal.\n"
     ]
    }
   ],
   "source": [
    "sns.countplot(data=df, x = 'opted_in_to_mailing_list', hue='isAdopted')\n",
    "a_by_opted_in = pd.pivot_table(data = df, index='isAdopted', columns='opted_in_to_mailing_list', aggfunc='count').replace({np.nan:0})['creation_time']\n",
    "a_by_opted_in_rate = a_by_opted_in/(a_by_opted_in.sum())\n",
    "ax = plt.gca()\n",
    "plt.gca().set_title('Count of Adoption Status by Opting In To Mailing List')\n",
    "ax.legend(labels=['Never Logged','Logged & Not Adopted','Adopted'])\n",
    "plt.show()\n",
    "print(a_by_opted_in_rate)\n",
    "\n",
    "_rc_opted_in = np.vstack([a_by_opted_in.loc[1,:].values, a_by_opted_in.loc[-1:0,:].sum().values])\n",
    "#print(_rc_opted_in)\n",
    "_chi2, _p, _dof, _ex = chi2_contingency(_rc_opted_in)\n",
    "print('Chi2 value: {0:2.3f}\\np-value: {1:1.5f}'.format(_chi2, _p))\n",
    "print('Cannot reject at 95% confidence the null hypothesis that the rates are equal.')\n"
   ]
  },
  {
   "cell_type": "markdown",
   "id": "8e06dc7b",
   "metadata": {},
   "source": [
    "We do not see a reasonable difference between the rates of adoption across opting-in status."
   ]
  },
  {
   "cell_type": "code",
   "execution_count": 13,
   "id": "0a63e3e6",
   "metadata": {},
   "outputs": [
    {
     "name": "stdout",
     "output_type": "stream",
     "text": [
      "enabled_for_marketing_drip         0         1\n",
      "isAdopted                                     \n",
      "-1                          0.267045  0.251674\n",
      " 0                          0.583366  0.587612\n",
      " 1                          0.149589  0.160714\n",
      "Chi2 value: 1.384\n",
      "p-value: 0.23934\n",
      "Cannot reject at 95% confidence the null hypothesis that the rates are equal.\n"
     ]
    },
    {
     "data": {
      "image/png": "[encoded data removed]",
      "text/plain": [
       "<Figure size 432x288 with 1 Axes>"
      ]
     },
     "metadata": {
      "needs_background": "light"
     },
     "output_type": "display_data"
    }
   ],
   "source": [
    "sns.countplot(data=df, x = 'enabled_for_marketing_drip', hue='isAdopted')\n",
    "a_by_drip = pd.pivot_table(data = df, index='isAdopted', columns='enabled_for_marketing_drip', aggfunc='count').replace({np.nan:0})['creation_time']\n",
    "a_by_drip_rate = a_by_drip/(a_by_drip.sum())\n",
    "print(a_by_drip_rate)\n",
    "ax = plt.gca()\n",
    "plt.gca().set_title('Count of Adoption Status by Being Enabled for Marketing Drip')\n",
    "ax.legend(labels=['Never Logged','Logged & Not Adopted','Adopted'])\n",
    "\n",
    "_rc_drip = np.vstack([a_by_drip.loc[1,:].values, a_by_drip.loc[-1:0,:].sum().values])\n",
    "#print(_rc_drip)\n",
    "_chi2, _p, _dof, _ex = chi2_contingency(_rc_drip)\n",
    "print('Chi2 value: {0:2.3f}\\np-value: {1:1.5f}'.format(_chi2, _p))\n",
    "print('Cannot reject at 95% confidence the null hypothesis that the rates are equal.')"
   ]
  },
  {
   "cell_type": "markdown",
   "id": "160f207a",
   "metadata": {},
   "source": [
    "For the whole dataset and the whole period, we do not see a difference in adoption rate across enabling by marketing drip."
   ]
  },
  {
   "cell_type": "code",
   "execution_count": 14,
   "id": "5e31d9a8",
   "metadata": {},
   "outputs": [
    {
     "name": "stdout",
     "output_type": "stream",
     "text": [
      "isAdopted        -1         0         1\n",
      "org_id                                 \n",
      "387        0.083333  0.333333  0.583333\n",
      "381        0.250000  0.250000  0.500000\n",
      "235        0.230769  0.307692  0.461538\n",
      "395        0.222222  0.333333  0.444444\n",
      "270        0.071429  0.500000  0.428571\n",
      "...             ...       ...       ...\n",
      "299        0.055556  0.944444  0.000000\n",
      "329        0.461538  0.538462  0.000000\n",
      "346        0.166667  0.833333  0.000000\n",
      "355        0.222222  0.777778  0.000000\n",
      "416        0.000000  1.000000  0.000000\n",
      "\n",
      "[417 rows x 3 columns]\n"
     ]
    },
    {
     "data": {
      "text/plain": [
       "Text(0.5, 0, 'Adoption Rate')"
      ]
     },
     "execution_count": 14,
     "metadata": {},
     "output_type": "execute_result"
    },
    {
     "data": {
      "image/png": "[encoded data removed]",
      "text/plain": [
       "<Figure size 432x288 with 1 Axes>"
      ]
     },
     "metadata": {
      "needs_background": "light"
     },
     "output_type": "display_data"
    }
   ],
   "source": [
    "a_by_org_id = pd.pivot_table(data = df, index='isAdopted', columns='org_id', aggfunc='count').replace({np.nan:0})['creation_time']\n",
    "a_by_org_id_rate = (a_by_org_id/(a_by_org_id.sum())).T.sort_values(by=1, ascending=False)\n",
    "print(a_by_org_id_rate)\n",
    "sns.ecdfplot(data = a_by_org_id_rate, x = 1)\n",
    "ax = plt.gca()\n",
    "ax.set_title('Cumulative Distribution of Signing Up Across Orgs')\n",
    "ax.set_xlabel('Adoption Rate')"
   ]
  },
  {
   "cell_type": "markdown",
   "id": "6b182ce0",
   "metadata": {},
   "source": [
    "Approximately, 10% of the organizations have an adoption rate more than 0.3. Perhaps, it will make sense to take a look at those organizations and how they are different than the remaining 90%. "
   ]
  },
  {
   "cell_type": "code",
   "execution_count": 15,
   "id": "40c28102",
   "metadata": {},
   "outputs": [
    {
     "name": "stdout",
     "output_type": "stream",
     "text": [
      "[387 381 235 395 270 318 352 399 161 400 392 415 117 364 345 388 289 225\n",
      " 231 282 291 343 281  82 218 295 306 139 177 193 372  62 305 304 366 280\n",
      " 238 273 141 296]\n"
     ]
    }
   ],
   "source": [
    "a_top_40_orgs = a_by_org_id_rate.iloc[:40, 2].index.values\n",
    "print(a_top_40_orgs)"
   ]
  },
  {
   "cell_type": "code",
   "execution_count": 16,
   "id": "b6007bde",
   "metadata": {},
   "outputs": [
    {
     "data": {
      "image/png": "[encoded data removed]",
      "text/plain": [
       "<Figure size 1296x432 with 1 Axes>"
      ]
     },
     "metadata": {
      "needs_background": "light"
     },
     "output_type": "display_data"
    }
   ],
   "source": [
    "sns.countplot(data = df[df['org_id'].isin(a_top_40_orgs)], x='org_id', hue='isAdopted',)\n",
    "plt.gcf().set_size_inches(18,6)\n",
    "ax = plt.gca()\n",
    "ax.set_title('Count of Adoptions in Organizations with Top 40 Adoption Rates (Top 10%)')\n",
    "ax.set_xlabel('Organization ID')\n",
    "ax.set_ylabel('Count')\n",
    "ax.legend(labels=['Never Logged','Logged & Not Adopted','Adopted']);"
   ]
  },
  {
   "cell_type": "code",
   "execution_count": 17,
   "id": "1d5f959d",
   "metadata": {},
   "outputs": [
    {
     "data": {
      "image/png": "[encoded data removed]",
      "text/plain": [
       "<Figure size 432x288 with 1 Axes>"
      ]
     },
     "metadata": {
      "needs_background": "light"
     },
     "output_type": "display_data"
    },
    {
     "name": "stdout",
     "output_type": "stream",
     "text": [
      "isAdopted                 -1         0    1\n",
      "invited_by_user_id                         \n",
      "7071.0              0.000000  0.000000  1.0\n",
      "6682.0              0.000000  0.000000  1.0\n",
      "5875.0              0.000000  0.000000  1.0\n",
      "2271.0              0.000000  0.000000  1.0\n",
      "7735.0              0.000000  0.000000  1.0\n",
      "...                      ...       ...  ...\n",
      "4662.0              0.000000  1.000000  0.0\n",
      "4655.0              1.000000  0.000000  0.0\n",
      "4654.0              0.000000  1.000000  0.0\n",
      "4652.0              0.000000  1.000000  0.0\n",
      "11999.0             0.285714  0.714286  0.0\n",
      "\n",
      "[2564 rows x 3 columns]\n"
     ]
    }
   ],
   "source": [
    "a_by_inv_id = pd.pivot_table(data = df, index='isAdopted', columns='invited_by_user_id', aggfunc='count').replace({np.nan:0})['creation_time']\n",
    "a_by_inv_id_rate = (a_by_inv_id/(a_by_inv_id.sum())).T.sort_values(by=1, ascending=False)\n",
    "sns.ecdfplot(data = a_by_inv_id_rate, x = 1)\n",
    "plt.gca().set_title('Cumulative Distribution of Invitation Success Rates Across Users Who Invite')\n",
    "plt.gca().set_xlabel('Invitation Success Rate');\n",
    "plt.show()\n",
    "print(a_by_inv_id_rate)"
   ]
  },
  {
   "cell_type": "markdown",
   "id": "e51f30d0",
   "metadata": {},
   "source": [
    "Looks like the top 10% people who invite have more than 50% invitation success rate."
   ]
  },
  {
   "cell_type": "markdown",
   "id": "8c03fe6b",
   "metadata": {},
   "source": [
    "<h2>Where Are We?</h2>"
   ]
  },
  {
   "cell_type": "markdown",
   "id": "15d551ee",
   "metadata": {},
   "source": [
    "Up to this point, I was not able to pinpoint any major factors that impact the adoption rate more than the other however we still made some observations and progress.\n",
    "\n",
    "  I have seen the variables from the user dataframe do not have a great predictive power on the user adoption (based on the definition given in text) by themselves. Some observations that I can make are i) Personal Projects may not be the best way to gain users ii) 10% of companies have a larger than 0.30 rate of adoption iii) there are a set of people who invite others that have an approximately 50% rate of success. Besides, expanding upon the last two paths, I believe I should make better use of the time-based engagement data provided to me."
   ]
  },
  {
   "cell_type": "markdown",
   "id": "f1c276ed",
   "metadata": {},
   "source": [
    "<h2>Where to Go from Here?</h2>"
   ]
  },
  {
   "cell_type": "markdown",
   "id": "331652d7",
   "metadata": {},
   "source": [
    "<h4>1) Further Exploration: Making Better Use of Engagement/Login (Time-based) Data"
   ]
  },
  {
   "cell_type": "markdown",
   "id": "097d5449",
   "metadata": {},
   "source": [
    "What this analysis seems to miss is capturing the dynamics of events - both on a per person and per organization basis.\n",
    "\n",
    "<li>On a per person basis, one could use the creation_time of a users account as a normalizing point for all users and proceed ask some conditional questions across people cross-sectionally. Questions such as:    <br />\n",
    "    \n",
    "--What is the probability (looking from creation_date) that a person will adopt conditional on the fact that there were 1 {2, or 3 or more} people already adopted across the organization? If the person eventually adopts, what is the average number of days? And does this number change if there were more people signed up at the organization?   If we see some sort of a network effect here, we could make efforts to accelerate the network effect. \n",
    "\n",
    "--What has been the average number of logins (or logins per week) per person before they adopted? This sum/average could be compared to the group that didn't adopt. At the end of the day, if the difference is meaningful, one could imagine an A/B test to increase the logins in the population (taking care not to alienate people)   \n",
    "--What is the probability of adoption conditional on the person being close to adoption before (defined by logging say 2 times per week)? Then, one could run an A/B test on that population to see if the conversion probability will move up."
   ]
  },
  {
   "cell_type": "markdown",
   "id": "9952775f",
   "metadata": {},
   "source": [
    "<h4>2) A Modelling Path - Ensemble Models / Logistic Regression"
   ]
  },
  {
   "cell_type": "markdown",
   "id": "d485c1a0",
   "metadata": {},
   "source": [
    "A logistic regression or an ensemble model could be used incorporating a some more extra features (perhaps some of the ones used above) to give us the feature importances associated with each of those factors. Results of those importances could be further used to guide the company to generate better hypothesis regarding what might positively improve adoption. "
   ]
  }
 ],
 "metadata": {
  "interpreter": {
   "hash": "220e10ff8ec8c0a2ee704b9ba1623fbaf79aa98a681a616ca665c089912d6d5d"
  },
  "kernelspec": {
   "display_name": "Python 3",
   "language": "python",
   "name": "python3"
  },
  "language_info": {
   "codemirror_mode": {
    "name": "ipython",
    "version": 3
   },
   "file_extension": ".py",
   "mimetype": "text/x-python",
   "name": "python",
   "nbconvert_exporter": "python",
   "pygments_lexer": "ipython3",
   "version": "3.9.4"
  }
 },
 "nbformat": 4,
 "nbformat_minor": 5
}
