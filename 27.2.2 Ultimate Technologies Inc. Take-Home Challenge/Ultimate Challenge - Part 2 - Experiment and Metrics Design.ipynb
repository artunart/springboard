{
 "cells": [
  {
   "cell_type": "markdown",
   "id": "e94cf6d6",
   "metadata": {},
   "source": [
    "<h1>Part 2 - Experiment and Metrics Design</h1>"
   ]
  },
  {
   "cell_type": "markdown",
   "id": "47838f86",
   "metadata": {},
   "source": [
    "<h2>Problem Statement</h2>\n",
    "\n",
    "The neighboring cities of Gotham and Metropolis have complementary circadian rhythms: on weekdays, Ultimate Gotham is most active at night, and Ultimate Metropolis is most active during the day. On weekends, there is reasonable activity in both cities.\n",
    "However, a toll bridge, with a two way toll, between the two cities causes driver partners to tend to be exclusive to each city. The Ultimate managers of city operations for the two cities have proposed an experiment to encourage driver partners to be available in both cities, by reimbursing all toll costs.\n",
    "1) What would you choose as the key measure of success of this experiment in encouraging driver partners to serve both cities, and why would you choose this metric?\n",
    "2) Describe a practical experiment you would design to compare the effectiveness of the proposed change in relation to the key measure of success. Please provide details on:\n",
    "\n",
    "  a) how you will implement the experiment\n",
    "\n",
    "  b) what statistical test(s) you will conduct to verify the significance of the observation\n",
    "        \n",
    "  c) how you would interpret the results and provide recommendations to the city operations team along with any caveats.\n",
    "\n",
    "\n",
    "Note: The two cities of Gotham and Metropolis are not in the provided dataset; however, you do not need this information to answer Part 2.\n"
   ]
  },
  {
   "cell_type": "markdown",
   "id": "3ea2591d",
   "metadata": {},
   "source": [
    "<h2>1. Key Measure Suggestion</h2>\n",
    "\n",
    "As I understand it, the goal of the experiment is to encourage driver partners to serve both cities through a new incentive structure (i.e. reimbursing all toll costs). \n",
    "\n",
    "Let's try to imagine what the **impact of the experiment** might be from involved parties' points of view:\n",
    "\n",
    "From the **driver's point of view**, the change would mean that a driver would be freer to move to the city of higher relative demand (relative, perhaps, to drivers available) without worrying about the toll. In equilibrium there might also be a decrease in fares due to the higher transportation supply in the short-term but that might be somewhat compensated by the new incentive structure. Also, the drivers will have larger flexibility of choosing when to work.  \n",
    "_Suggested Driver Metrics:_ Change in the number of trips available to driver within a small radius; Change in the number of trips originating in \"away\" city; Total number of Bridge Crossings; montly active drivers; Driver Revenue per mile\n",
    "\n",
    "From the **rider's point of view**, the increase in the number of drivers available during the search process will most likely result in lower wait times, fewer cancelled rides and, perhaps, lower fares.   \n",
    "_Suggested Rider Metrics:_ Rider Wait Time from Request Made to Matchup to; Rider Wait Time from Matchup to Driver Arrival; Total number of cancelled trips; Avg Fare (per trip, per mile); Total number of Rides Demanded\n",
    "\n",
    "From the **platform's point of view**, the incentive seems to have an impact of toll payments and, perhaps, lowering the fares. In the short-term however, a benefit would be better matching possibly leading to shorter wait-times and fewer rides cancelled a (a net win - assuming rides generate profit.) Also, in the long-term, the strategy could add more riders to the platform based on the higher quality of service (and more drivers.)   \n",
    "_Suggested Platform Metrics:_ Platform total payout; Platform total profit (per mile, per ride; Active  Riders; Active Drivers; Probability of Inactive Drivers Returning\n",
    "\n",
    "\n",
    "\n",
    "**To strictly measure if the drivers cross the bridge to provide services: I would choose the metric as: \"Change in the number of trips originating in the \"away\" city per driver\"** Here, I define the \"home city\" as the city that the driver starts their work. \"Away city\" is the city that's not the home city.\n",
    "\n",
    "The reasoning in my mind is as follows: The elimination of tolls for the driver will incentivize the driver to cross the bridge into the \"away city\" to capture any high trip demand they may see. By comparing the riders' previous behaviour (say, doesn't cross the bridge to take advantage of trips in away city) to the current behavior (crosses the bridge to make trips) On another note, an increase in the number of bridge crossings per day would also signal a similar behavior, though in my mind, that would put a higher emphasis on how succesfully we satisfied the cross-bridge trip demand. Current metric slants toward capturing alternating demand swings across cities. Best metric is probably a combination.\n",
    "\n",
    "Also during this experiment, I would keep track of the other metrics suggested above from the driver, rider and platform perspectives. I would suggest keeping an eye on: Rider Wait Time from Request Made to Driver Arrial (this should be going down); Total Number of Cancelled Trips per Rider (possibly going down due to better matching at start); Active Drivers (going up); Probability of Inactive Driver Returning (going up)"
   ]
  },
  {
   "cell_type": "markdown",
   "id": "98fb75c0",
   "metadata": {},
   "source": [
    "<h2>2. Practical Experiment</h2>\n",
    "\n",
    "\n",
    "**Control Group:** The group of drivers who have not received a \"toll-pass\" for the day. \n",
    "\n",
    "**Treatment Group:** The group of drivers who have received a \"toll-pass\" for the day. \n",
    "\n",
    "**Relevant Statistic:** Change in the number of trips originating in the away city per driver for the day compared to recent (1 month) historical average exluding treatment days.\n",
    "\n",
    "**H<sub>0</sub>:** Difference of mean of relevant statistic between the Treatment Group and Control Group is **negative or less than zero**.\n",
    "\n",
    "**H<sub>1</sub>:** Difference of mean of relevant statistic between the Treatment Group and Control Group is **positive**.\n",
    "\n",
    "<h4>a) Experiment Implementation</h4>\n",
    "\n",
    "  For each day, when a driver logs in, let's assign at most 5% (this may need sample size adjustment for power) probability of letting them know that their toll fees are waived for the rest of the day. This will be the Treatment Group. The rest, 95% of the drivers that logged in will be the Control Group. Let's run the experiment everyday until target control sample size (>30) is reached and an integer number of weeks are passed, i.e. to sample each day in the week an equal number of times. <br/> \n",
    "\n",
    "<h4>b) Statistical Test</h4>\n",
    "\n",
    "  Two-sample t-test of means will be conducted. We will assume the population variances of both group's relevant statistics are similar (if not we can use Welch's t-test). We will also assume a significance level of alpha equals 0.05 and compare to two practical significance boundaries: i) at 1, so that, on the average, we can get a driver to cross once and provide at least one trip ii) at a level such that the the profit from extra rides will cover the total toll cost (\"break-even practical significance boundary\")<br/>\n",
    "\n",
    "   \n",
    "<h4>c) Interpretation of Results -  Recommendations & Caveats</h4>\n",
    "  \n",
    "  If the confidence interval around the mean difference is larger than zero, than we can say that the effect is significant. If it's greater than 1, we can say that the impact is meaningfull to incentivize drivers. If it's greater than \"break-even practical significance boundary\" then it makes sense for the company to implement the change in the short term possibly in addition to long-term.\n",
    "  \n",
    "<br/><br/>  \n",
    "  Some caveats:<br/>\n",
    "  -The impact of the experiment could be low on the weekends as there is enough traffic in both towns at those times.<br/>\n",
    "  -A driver who receives treatment for the day, could be too tired to take advantage of a demand increase later that day - timing could be fine-tuned.<br/>\n",
    "  -Another test could be run with the same data for a Bernoulli process where the probability of a driver making it across the bridge has increased or not.<br/>\n",
    "  -Short-term data may not be reflected in long-term data if the program is made universal: e.g. there could be too many drivers trying to pick up otherwise to-be-cancelled trips, driving down average fare and increasing toll costs; the abundance of transportation options could start to generate its own demand making the full program feasible later on<br/>\n",
    "  -The incentive could be somehow taken advantage of - carrying passengers off the book with zero toll costs. Outliers of a crosses/trips metric could be monitored<br/>\n",
    "  -Keep an eye on the metrics suggested at the end of Part 1 above.\n",
    "\n",
    "  "
   ]
  },
  {
   "cell_type": "code",
   "execution_count": null,
   "id": "60063f37",
   "metadata": {},
   "outputs": [],
   "source": []
  }
 ],
 "metadata": {
  "interpreter": {
   "hash": "220e10ff8ec8c0a2ee704b9ba1623fbaf79aa98a681a616ca665c089912d6d5d"
  },
  "kernelspec": {
   "display_name": "Python 3",
   "language": "python",
   "name": "python3"
  },
  "language_info": {
   "codemirror_mode": {
    "name": "ipython",
    "version": 3
   },
   "file_extension": ".py",
   "mimetype": "text/x-python",
   "name": "python",
   "nbconvert_exporter": "python",
   "pygments_lexer": "ipython3",
   "version": "3.9.4"
  }
 },
 "nbformat": 4,
 "nbformat_minor": 5
}
