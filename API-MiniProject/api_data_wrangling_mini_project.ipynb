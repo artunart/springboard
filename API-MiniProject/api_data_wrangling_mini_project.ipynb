{
 "cells": [
  {
   "cell_type": "markdown",
   "metadata": {},
   "source": [
    "This exercise will require you to pull some data from the Qunadl API. Qaundl is currently the most widely used aggregator of financial market data."
   ]
  },
  {
   "cell_type": "markdown",
   "metadata": {},
   "source": [
    "As a first step, you will need to register a free account on the http://www.quandl.com website."
   ]
  },
  {
   "cell_type": "markdown",
   "metadata": {},
   "source": [
    "After you register, you will be provided with a unique API key, that you should store:"
   ]
  },
  {
   "cell_type": "code",
   "execution_count": 1,
   "metadata": {},
   "outputs": [],
   "source": [
    "# Store the API key as a string - according to PEP8, constants are always named in all upper case\n",
    "API_NAME = 'quandl'\n",
    "API_KEY = None\n",
    "\n",
    "#Read API Key from an ignored directory to avoid cleaning up api keys with each commit\n",
    "with open(\"../ignore/API_KEYS.txt\",\"r\") as file:\n",
    "    try:\n",
    "        api_dict = dict([_.strip('\\n').split(\":\") for _ in file.readlines()]) #Placeholder. Make sure .txt conforms: lines should be of form 'key':'value'\n",
    "    except:\n",
    "        raise ValueError('File format error. Format should be key:value [\\w:\\w] for each line')\n",
    "    API_KEY = api_dict.get(API_NAME,None)\n",
    "\n",
    "if API_KEY is None:\n",
    "    raise ValueError('API_KEY Not Available')"
   ]
  },
  {
   "cell_type": "markdown",
   "metadata": {},
   "source": [
    "Qaundl has a large number of data sources, but, unfortunately, most of them require a Premium subscription. Still, there are also a good number of free datasets."
   ]
  },
  {
   "cell_type": "markdown",
   "metadata": {},
   "source": [
    "For this mini project, we will focus on equities data from the Frankfurt Stock Exhange (FSE), part of which is available for free. We'll try and analyze the stock prices of a company called Carl Zeiss Meditec, which manufactures tools for eye examinations, as well as medical lasers for laser eye surgery: https://www.zeiss.com/meditec/int/home.html. The company is listed under the stock ticker AFX_X.\n",
    "\n",
    "**Note that data for Carl Zeiss was not available for free on Quandl, analyzing adidas AG (ADS) instead.**\n",
    "\n",
    "**adidas AG designs, develops, produces and markets a broad range of atletic and sports lifestyle products.**\n",
    "https://report.adidas-group.com/2019/en/servicepages/downloads/files/consolidated_financial_statements_adidas_ar19.pdf"
   ]
  },
  {
   "cell_type": "markdown",
   "metadata": {},
   "source": [
    "You can find the detailed Quandl API instructions here: https://docs.quandl.com/docs/time-series"
   ]
  },
  {
   "cell_type": "markdown",
   "metadata": {},
   "source": [
    "While there is a dedicated Python package for connecting to the Quandl API, we would prefer that you use the *requests* package, which can be easily downloaded using *pip* or *conda*. You can find the documentation for the package here: http://docs.python-requests.org/en/master/ "
   ]
  },
  {
   "cell_type": "markdown",
   "metadata": {},
   "source": [
    "Finally, apart from the *requests* package, you are encouraged to not use any third party Python packages, such as *pandas*, and instead focus on what's available in the Python Standard Library (the *collections* module might come in handy: https://pymotw.com/3/collections/ ).\n",
    "Also, since you won't have access to DataFrames, you are encouraged to us Python's native data structures - preferably dictionaries, though some questions can also be answered using lists.\n",
    "You can read more on these data structures here: https://docs.python.org/3/tutorial/datastructures.html"
   ]
  },
  {
   "cell_type": "markdown",
   "metadata": {},
   "source": [
    "Keep in mind that the JSON responses you will be getting from the API map almost one-to-one to Python's dictionaries. Unfortunately, they can be very nested, so make sure you read up on indexing dictionaries in the documentation provided above."
   ]
  },
  {
   "cell_type": "code",
   "execution_count": 2,
   "metadata": {},
   "outputs": [],
   "source": [
    "# First, import the relevant modules\n",
    "import datetime \n",
    "import json\n",
    "import requests\n"
   ]
  },
  {
   "cell_type": "code",
   "execution_count": 3,
   "metadata": {},
   "outputs": [],
   "source": [
    "# Now, call the Quandl API and pull out a small sample of the data (only one day) to get a glimpse\n",
    "# into the JSON structure that will be returned\n",
    "#GET https://www.quandl.com/api/v3/datasets/{database_code}/{dataset_code}/data.{return_format}\n",
    "\n",
    "database_code = \"XFRA\"\n",
    "dataset_code = \"ADS\" \n",
    "return_format = 'json'\n",
    "url = 'https://www.quandl.com/api/v3/datasets/'+database_code+'/'+dataset_code+'/'+'data.'+return_format\n",
    "params = {'api_key':API_KEY, 'limit':2}\n",
    "res = requests.get(url, params)"
   ]
  },
  {
   "cell_type": "code",
   "execution_count": 4,
   "metadata": {},
   "outputs": [
    {
     "name": "stdout",
     "output_type": "stream",
     "text": [
      "<class 'dict'> \n",
      "\n",
      "{'dataset_data': {'limit': 2, 'transform': None, 'column_index': None, 'column_names': ['Date', 'Open', 'High', 'Low', 'Close', 'Volume', 'Adjustment Factor', 'Adjustment Type'], 'start_date': '2007-01-02', 'end_date': '2018-11-30', 'frequency': 'daily', 'data': [['2018-11-30', 195.453927, 195.552592, 190.718042, 192.592663, 2702.0, None, None], ['2018-11-29', 198.315191, 198.315191, 195.009938, 195.207267, 259.0, None, None]], 'collapse': None, 'order': None}} \n",
      "\n",
      "dict_keys(['dataset_data']) \n",
      "\n",
      "dict_keys(['limit', 'transform', 'column_index', 'column_names', 'start_date', 'end_date', 'frequency', 'data', 'collapse', 'order'])\n",
      "['Date', 'Open', 'High', 'Low', 'Close', 'Volume', 'Adjustment Factor', 'Adjustment Type']\n"
     ]
    }
   ],
   "source": [
    "# Inspect the JSON structure of the object you created, and take note of how nested it is,\n",
    "# as well as the overall structure\n",
    "\n",
    "res_d = res.json()\n",
    "print(type(res_d), '\\n')\n",
    "print(res_d, '\\n')\n",
    "print(res_d.keys(), '\\n')\n",
    "print(res_d['dataset_data'].keys())\n",
    "print(res_d['dataset_data']['column_names'])\n",
    "#'column names' are: ['Date', 'Open', 'High', 'Low', 'Close', 'Volume', 'Adjustment Factor', 'Adjustment Type']\n",
    "#data can be found in res_json['dataset_data']['data']\n"
   ]
  },
  {
   "cell_type": "markdown",
   "metadata": {},
   "source": [
    "These are your tasks for this mini project:\n",
    "\n",
    "1. Collect data from the Franfurt Stock Exchange, for the ticker AFX_X, for the whole year 2017 (keep in mind that the date format is YYYY-MM-DD).\n",
    "2. Convert the returned JSON object into a Python dictionary.\n",
    "3. Calculate what the highest and lowest opening prices were for the stock in this period.\n",
    "4. What was the largest change in any one day (based on High and Low price)?\n",
    "5. What was the largest change between any two days (based on Closing Price)?\n",
    "6. What was the average daily trading volume during this year?\n",
    "7. (Optional) What was the median trading volume during this year. (Note: you may need to implement your own function for calculating the median.)"
   ]
  },
  {
   "cell_type": "markdown",
   "metadata": {},
   "source": [
    "**1. Collect data from the Franfurt Stock Exchange, \n",
    "for the ticker ADS, for the whole year 2017 \n",
    "(keep in mind that the date format is YYYY-MM-DD).**"
   ]
  },
  {
   "cell_type": "code",
   "execution_count": 5,
   "metadata": {},
   "outputs": [],
   "source": [
    "database_code = \"XFRA\"\n",
    "dataset_code = \"ADS\" \n",
    "return_format = 'json'\n",
    "url = 'https://www.quandl.com/api/v3/datasets/'+database_code+'/'+dataset_code+'/'+'data.'+return_format\n",
    "start_date = datetime.date(2017,1,1).strftime('%Y/%m/%d')\n",
    "end_date = datetime.date(2017,12,31).strftime('%Y/%m/%d')\n",
    "\n",
    "\n",
    "\n",
    "params_2017 = {'api_key':API_KEY, 'start_date':start_date, 'end_date':end_date}\n",
    "res_2017 = requests.get(url, params_2017)"
   ]
  },
  {
   "cell_type": "markdown",
   "metadata": {},
   "source": [
    "**2. Convert the returned JSON object into a Python dictionary.**"
   ]
  },
  {
   "cell_type": "code",
   "execution_count": 6,
   "metadata": {},
   "outputs": [
    {
     "name": "stdout",
     "output_type": "stream",
     "text": [
      "<class 'dict'>\n"
     ]
    }
   ],
   "source": [
    "res_2017d = res_2017.json()\n",
    "print(type(res_2017d))"
   ]
  },
  {
   "cell_type": "markdown",
   "metadata": {},
   "source": [
    "**Write functions to extract data lists and calculate median.**"
   ]
  },
  {
   "cell_type": "code",
   "execution_count": 7,
   "metadata": {},
   "outputs": [],
   "source": [
    "def get_column(colname, quandl_data_dict):\n",
    "    cols = ['Date', 'Open', 'High', 'Low', 'Close', 'Volume', 'Adjustment Factor', 'Adjustment Type']\n",
    "    col_dict = dict(zip(cols, range(len(cols))))\n",
    "    target_data = []\n",
    "    for _ in quandl_data_dict['dataset_data']['data']:\n",
    "        target_data.append(_[col_dict[colname]])\n",
    "    return target_data\n",
    "\n",
    "def median(data):\n",
    "    if len(data) == 0:\n",
    "        return None\n",
    "    \n",
    "    data.sort()\n",
    "    if len(data)%2==1:\n",
    "        return data[len(data)//2]\n",
    "    else:\n",
    "        return (data[len(data)//2] + data[len(data)//2-1])/2\n",
    "assert median([4,3,5])==4\n",
    "assert median([1,2,5,4])==3\n",
    "        "
   ]
  },
  {
   "cell_type": "markdown",
   "metadata": {},
   "source": [
    "**3. Calculate what the highest and lowest opening prices were \n",
    "for the stock in this period.**"
   ]
  },
  {
   "cell_type": "code",
   "execution_count": 8,
   "metadata": {},
   "outputs": [
    {
     "name": "stdout",
     "output_type": "stream",
     "text": [
      "Highest opening price in 2017 was 193.97\n",
      "Lowest opening price in 2017 was 138.78\n"
     ]
    }
   ],
   "source": [
    "open_data = get_column('Open',res_2017d)\n",
    "\n",
    "max_open_px = max(open_data)\n",
    "min_open_px = min(open_data)\n",
    "print(\"Highest opening price in 2017 was {0:.2f}\".format(max_open_px))\n",
    "print(\"Lowest opening price in 2017 was {0:.2f}\".format(min_open_px))"
   ]
  },
  {
   "cell_type": "markdown",
   "metadata": {},
   "source": [
    "**4. What was the largest change in any one day (based on High and Low price)?**"
   ]
  },
  {
   "cell_type": "code",
   "execution_count": 9,
   "metadata": {},
   "outputs": [
    {
     "name": "stdout",
     "output_type": "stream",
     "text": [
      "Largest intraday price change in 2017 was 11.08\n"
     ]
    }
   ],
   "source": [
    "high_data = get_column('High', res_2017d)\n",
    "low_data = get_column('Low', res_2017d)\n",
    "\n",
    "largest_intraday_chg = max([abs(_[0]-_[1]) for _ in zip(high_data, low_data)])\n",
    "print(\"Largest intraday price change in 2017 was {0:.2f}\".format(largest_intraday_chg))"
   ]
  },
  {
   "cell_type": "markdown",
   "metadata": {},
   "source": [
    "5. What was the largest change between any two days (based on Closing Price)?"
   ]
  },
  {
   "cell_type": "code",
   "execution_count": 10,
   "metadata": {},
   "outputs": [
    {
     "name": "stdout",
     "output_type": "stream",
     "text": [
      "Largest one day closing price change in 2017 was 14.05\n"
     ]
    }
   ],
   "source": [
    "closing_data = get_column('Close', res_2017d)\n",
    "\n",
    "max_oneday_px_move = max([abs(_[0]-_[1]) for _ in zip(closing_data[:-1], closing_data[1:])])\n",
    "print(\"Largest one day closing price change in 2017 was {0:.2f}\".format(max_oneday_px_move))"
   ]
  },
  {
   "cell_type": "markdown",
   "metadata": {},
   "source": [
    "**6. What was the average daily trading volume during this year?**\n",
    "\n",
    "\n",
    "According to the documentation, https://www.quandl.com/data/XFRA-Frankfurt-Stock-Exchange-Prices/documentation, volume is represented as 0 on market holidays. Our calculations should do their best to reflect that. Given that adidas AG is a large company and high-volume stock it's reasonable to assume that all 0 volume days are stock market holidays. I will make the calculation accordingly. //A brief internet search confirms 9 of these 12 no-volume days as holidays. For the purposes of this exercise will not search further and accept 12 the number of holidays/no-trading-days."
   ]
  },
  {
   "cell_type": "code",
   "execution_count": 11,
   "metadata": {},
   "outputs": [
    {
     "name": "stdout",
     "output_type": "stream",
     "text": [
      "There were 12 days of 0-volume days in 2017\n",
      "0-volume days are as follows:\n",
      "2017-12-26\n",
      "2017-12-25\n",
      "2017-10-31\n",
      "2017-10-03\n",
      "2017-09-05\n",
      "2017-08-23\n",
      "2017-06-28\n",
      "2017-06-05\n",
      "2017-05-01\n",
      "2017-04-19\n",
      "2017-04-17\n",
      "2017-04-14\n"
     ]
    }
   ],
   "source": [
    "vol_data = get_column('Volume', res_2017d)\n",
    "date_data = get_column('Date', res_2017d)\n",
    "\n",
    "dt_vol_exholiday_data = [_ for _ in zip(date_data, vol_data) if _[1] > 0]\n",
    "dt_vol_holiday_data = [_ for _ in zip(date_data, vol_data) if _[1] == 0]\n",
    "\n",
    "\n",
    "print('There were {0} days of 0-volume days in 2017'.format(len(dt_vol_holiday_data)))\n",
    "print('0-volume days are as follows:\\n{0}'.format('\\n'.join([_[0] for _ in dt_vol_holiday_data])))\n",
    "\n",
    "vol_exhol_data = [_[1] for _ in dt_vol_exholiday_data]\n",
    "avg_daily_vol = sum(vol_exhol_data)/len(dt_vol_exholiday_data)\n"
   ]
  },
  {
   "cell_type": "markdown",
   "metadata": {},
   "source": [
    "**7. (Optional) What was the median trading volume during this year. (Note: you may need to implement your own function for calculating the median.)**"
   ]
  },
  {
   "cell_type": "code",
   "execution_count": 12,
   "metadata": {},
   "outputs": [
    {
     "name": "stdout",
     "output_type": "stream",
     "text": [
      "Median daily trading volume in 2017 was 1242.50\n"
     ]
    }
   ],
   "source": [
    "median_vol = median(vol_exhol_data)\n",
    "\n",
    "print(\"Median daily trading volume in 2017 was {0:.2f}\".format(median_vol))"
   ]
  }
 ],
 "metadata": {
  "kernelspec": {
   "display_name": "junk391",
   "language": "python",
   "name": "junk391"
  },
  "language_info": {
   "codemirror_mode": {
    "name": "ipython",
    "version": 3
   },
   "file_extension": ".py",
   "mimetype": "text/x-python",
   "name": "python",
   "nbconvert_exporter": "python",
   "pygments_lexer": "ipython3",
   "version": "3.9.1"
  }
 },
 "nbformat": 4,
 "nbformat_minor": 4
}
