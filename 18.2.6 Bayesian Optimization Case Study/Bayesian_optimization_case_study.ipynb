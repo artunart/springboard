{
 "cells": [
  {
   "cell_type": "markdown",
   "source": [
    "## Bayesian methods of hyperparameter optimization"
   ],
   "metadata": {
    "colab_type": "text",
    "id": "WNK7vbHo-KYU"
   }
  },
  {
   "cell_type": "markdown",
   "source": [
    "In addition to the random search and the grid search methods for selecting optimal hyperparameters, we can use Bayesian methods of probabilities to select the optimal hyperparameters for an algorithm.\n",
    "\n",
    "In this case study, we will be using the BayesianOptimization library to perform hyperparmater tuning. This library has very good documentation which you can find here: https://github.com/fmfn/BayesianOptimization\n",
    "\n",
    "You will need to install the Bayesian optimization module. Running a cell with an exclamation point in the beginning of the command will run it as a shell command — please do this to install this module from our notebook in the cell below."
   ],
   "metadata": {
    "colab_type": "text",
    "id": "BlFdvPwF-KYW"
   }
  },
  {
   "cell_type": "code",
   "execution_count": 1,
   "source": [
    "#! pip install bayesian-optimization"
   ],
   "outputs": [],
   "metadata": {
    "colab": {},
    "colab_type": "code",
    "id": "Pssx080d-Ulf"
   }
  },
  {
   "cell_type": "code",
   "execution_count": 2,
   "source": [
    "import warnings\n",
    "warnings.filterwarnings('ignore')\n",
    "from sklearn.preprocessing import LabelEncoder\n",
    "import numpy as np\n",
    "import pandas as pd\n",
    "import lightgbm\n",
    "from bayes_opt import BayesianOptimization\n",
    "# from catboost import CatBoostClassifier, cv, Pool"
   ],
   "outputs": [],
   "metadata": {
    "ExecuteTime": {
     "end_time": "2019-04-22T16:39:09.312682Z",
     "start_time": "2019-04-22T16:39:09.309208Z"
    },
    "_kg_hide-input": true,
    "colab": {},
    "colab_type": "code",
    "id": "l9nfFTyj-KYY"
   }
  },
  {
   "cell_type": "code",
   "execution_count": 3,
   "source": [
    "import os\n",
    "os.listdir()"
   ],
   "outputs": [
    {
     "output_type": "execute_result",
     "data": {
      "text/plain": [
       "['flight_delays_test.csv.zip',\n",
       " 'Bayesian_optimization_case_study-1124d251-1123-426c-8582-76790451da75.ipynb',\n",
       " 'Bayesian_optimization_case_study.ipynb',\n",
       " 'flight_delays_train.csv.zip',\n",
       " '.ipynb_checkpoints']"
      ]
     },
     "metadata": {},
     "execution_count": 3
    }
   ],
   "metadata": {
    "colab": {
     "base_uri": "https://localhost:8080/",
     "height": 85
    },
    "colab_type": "code",
    "id": "D16Dquw1AAK0",
    "outputId": "44167587-f22e-4bf5-a816-e2bcfdc6c4ee"
   }
  },
  {
   "cell_type": "markdown",
   "source": [
    "## How does Bayesian optimization work?"
   ],
   "metadata": {
    "ExecuteTime": {
     "end_time": "2019-04-22T14:48:15.929012Z",
     "start_time": "2019-04-22T14:48:15.926574Z"
    },
    "colab_type": "text",
    "id": "AkBt3yds-KYu"
   }
  },
  {
   "cell_type": "markdown",
   "source": [
    "Bayesian optimization works by constructing a posterior distribution of functions (Gaussian process) that best describes the function you want to optimize. As the number of observations grows, the posterior distribution improves, and the algorithm becomes more certain of which regions in parameter space are worth exploring and which are not, as seen in the picture below."
   ],
   "metadata": {
    "colab_type": "text",
    "id": "E1kyBCUs-KYv"
   }
  },
  {
   "cell_type": "markdown",
   "source": [
    "<img src=\"https://github.com/fmfn/BayesianOptimization/blob/master/examples/bo_example.png?raw=true\" />\n",
    "As you iterate over and over, the algorithm balances its needs of exploration and exploitation while taking into account what it knows about the target function. At each step, a Gaussian Process is fitted to the known samples (points previously explored), and the posterior distribution, combined with an exploration strategy (such as UCB — aka Upper Confidence Bound), or EI (Expected Improvement). This process is used to determine the next point that should be explored (see the gif below).\n",
    "<img src=\"https://github.com/fmfn/BayesianOptimization/raw/master/examples/bayesian_optimization.gif\" />"
   ],
   "metadata": {
    "colab_type": "text",
    "id": "gAdHF72R-KYw"
   }
  },
  {
   "cell_type": "markdown",
   "source": [
    "## Let's look at a simple example"
   ],
   "metadata": {
    "colab_type": "text",
    "id": "RTP8KUlLoYzu"
   }
  },
  {
   "cell_type": "markdown",
   "source": [
    "The first step is to create an optimizer. It uses two items:\n",
    "* function to optimize\n",
    "* bounds of parameters\n",
    "\n",
    "The function is the procedure that counts metrics of our model quality. The important thing is that our optimization will maximize the value on function. Smaller metrics are best. Hint: don't forget to use negative metric values."
   ],
   "metadata": {
    "colab_type": "text",
    "id": "crpPqKdC-KYx"
   }
  },
  {
   "cell_type": "markdown",
   "source": [
    "Here we define our simple function we want to optimize."
   ],
   "metadata": {
    "colab_type": "text",
    "id": "e09ciF8gpTfr"
   }
  },
  {
   "cell_type": "code",
   "execution_count": 4,
   "source": [
    "def simple_func(a, b):\n",
    "    return a + b"
   ],
   "outputs": [],
   "metadata": {
    "colab": {},
    "colab_type": "code",
    "id": "ofwvnfEwo5mG"
   }
  },
  {
   "cell_type": "markdown",
   "source": [
    "Now, we define our bounds of the parameters to optimize, within the Bayesian optimizer."
   ],
   "metadata": {
    "colab_type": "text",
    "id": "XCGsdciCpeI3"
   }
  },
  {
   "cell_type": "code",
   "execution_count": 5,
   "source": [
    "optimizer = BayesianOptimization(\n",
    "    simple_func,\n",
    "    {'a': (1, 3),\n",
    "    'b': (4, 7)})"
   ],
   "outputs": [],
   "metadata": {
    "colab": {},
    "colab_type": "code",
    "id": "4jLYW2qnpOFr"
   }
  },
  {
   "cell_type": "markdown",
   "source": [
    "These are the main parameters of this function:\n",
    "\n",
    "* **n_iter:** This is how many steps of Bayesian optimization you want to perform. The more steps, the more likely you are to find a good maximum.\n",
    "\n",
    "* **init_points:** This is how many steps of random exploration you want to perform. Random exploration can help by diversifying the exploration space."
   ],
   "metadata": {
    "colab_type": "text",
    "id": "dg6LdYx8pq2T"
   }
  },
  {
   "cell_type": "markdown",
   "source": [
    "Let's run an example where we use the optimizer to find the best values to maximize the target value for a and b given the inputs of 3 and 2."
   ],
   "metadata": {
    "colab_type": "text",
    "id": "i-GKMJ1uqMYv"
   }
  },
  {
   "cell_type": "code",
   "execution_count": 6,
   "source": [
    "optimizer.maximize(3,2)"
   ],
   "outputs": [
    {
     "output_type": "stream",
     "name": "stdout",
     "text": [
      "|   iter    |  target   |     a     |     b     |\n",
      "-------------------------------------------------\n",
      "| \u001b[0m 1       \u001b[0m | \u001b[0m 8.954   \u001b[0m | \u001b[0m 2.432   \u001b[0m | \u001b[0m 6.522   \u001b[0m |\n",
      "| \u001b[0m 2       \u001b[0m | \u001b[0m 7.786   \u001b[0m | \u001b[0m 1.644   \u001b[0m | \u001b[0m 6.143   \u001b[0m |\n",
      "| \u001b[0m 3       \u001b[0m | \u001b[0m 8.515   \u001b[0m | \u001b[0m 2.525   \u001b[0m | \u001b[0m 5.99    \u001b[0m |\n",
      "| \u001b[0m 4       \u001b[0m | \u001b[0m 8.948   \u001b[0m | \u001b[0m 2.413   \u001b[0m | \u001b[0m 6.535   \u001b[0m |\n",
      "| \u001b[95m 5       \u001b[0m | \u001b[95m 9.941   \u001b[0m | \u001b[95m 2.942   \u001b[0m | \u001b[95m 6.999   \u001b[0m |\n",
      "=================================================\n"
     ]
    }
   ],
   "metadata": {
    "colab": {
     "base_uri": "https://localhost:8080/",
     "height": 153
    },
    "colab_type": "code",
    "id": "Oy44Ro7wqNat",
    "outputId": "9cc64d54-b1e6-46d1-dc29-4c0039a1c72d"
   }
  },
  {
   "cell_type": "markdown",
   "source": [
    "Great, now let's print the best parameters and the associated maximized target."
   ],
   "metadata": {
    "colab_type": "text",
    "id": "tyKFMF2Hq2Sx"
   }
  },
  {
   "cell_type": "code",
   "execution_count": 7,
   "source": [
    "print(optimizer.max['params']);optimizer.max['target']"
   ],
   "outputs": [
    {
     "output_type": "stream",
     "name": "stdout",
     "text": [
      "{'a': 2.942381316229339, 'b': 6.998856663428785}\n"
     ]
    },
    {
     "output_type": "execute_result",
     "data": {
      "text/plain": [
       "9.941237979658123"
      ]
     },
     "metadata": {},
     "execution_count": 7
    }
   ],
   "metadata": {
    "colab": {
     "base_uri": "https://localhost:8080/",
     "height": 51
    },
    "colab_type": "code",
    "id": "_H6DixyfscV_",
    "outputId": "fd0c35d7-e30d-4d30-9ab2-12c0fa837971"
   }
  },
  {
   "cell_type": "markdown",
   "source": [
    "## Test it on real data using the Light GBM"
   ],
   "metadata": {
    "colab_type": "text",
    "id": "tQ1T1V6Mspi4"
   }
  },
  {
   "cell_type": "markdown",
   "source": [
    "The dataset we will be working with is the famous flight departures dataset. Our modeling goal will be to predict if a flight departure is going to be delayed by 15 minutes based on the other attributes in our dataset. As part of this modeling exercise, we will use Bayesian hyperparameter optimization to identify the best parameters for our model."
   ],
   "metadata": {
    "colab_type": "text",
    "id": "y_oGwREZkm4h"
   }
  },
  {
   "cell_type": "markdown",
   "source": [
    "**<font color='teal'> You can load the zipped csv files just as you would regular csv files using Pandas read_csv. In the next cell load the train and test data into two seperate dataframes. </font>**\n"
   ],
   "metadata": {
    "colab_type": "text",
    "id": "abYSagjQANDZ"
   }
  },
  {
   "cell_type": "code",
   "execution_count": 8,
   "source": [
    "train_df = pd.read_csv('flight_delays_train.csv.zip')\n",
    "test_df = pd.read_csv('flight_delays_test.csv.zip')"
   ],
   "outputs": [],
   "metadata": {
    "colab": {},
    "colab_type": "code",
    "id": "EWKBApVuAeJe"
   }
  },
  {
   "cell_type": "markdown",
   "source": [
    "**<font color='teal'> Print the top five rows of the train dataframe and review the columns in the data. </font>**"
   ],
   "metadata": {
    "colab_type": "text",
    "id": "OapNcT9Eikis"
   }
  },
  {
   "cell_type": "code",
   "execution_count": 9,
   "source": [
    "train_df.head()"
   ],
   "outputs": [
    {
     "output_type": "execute_result",
     "data": {
      "text/plain": [
       "  Month DayofMonth DayOfWeek  DepTime UniqueCarrier Origin Dest  Distance  \\\n",
       "0   c-8       c-21       c-7     1934            AA    ATL  DFW       732   \n",
       "1   c-4       c-20       c-3     1548            US    PIT  MCO       834   \n",
       "2   c-9        c-2       c-5     1422            XE    RDU  CLE       416   \n",
       "3  c-11       c-25       c-6     1015            OO    DEN  MEM       872   \n",
       "4  c-10        c-7       c-6     1828            WN    MDW  OMA       423   \n",
       "\n",
       "  dep_delayed_15min  \n",
       "0                 N  \n",
       "1                 N  \n",
       "2                 N  \n",
       "3                 N  \n",
       "4                 Y  "
      ],
      "text/html": [
       "<div>\n",
       "<style scoped>\n",
       "    .dataframe tbody tr th:only-of-type {\n",
       "        vertical-align: middle;\n",
       "    }\n",
       "\n",
       "    .dataframe tbody tr th {\n",
       "        vertical-align: top;\n",
       "    }\n",
       "\n",
       "    .dataframe thead th {\n",
       "        text-align: right;\n",
       "    }\n",
       "</style>\n",
       "<table border=\"1\" class=\"dataframe\">\n",
       "  <thead>\n",
       "    <tr style=\"text-align: right;\">\n",
       "      <th></th>\n",
       "      <th>Month</th>\n",
       "      <th>DayofMonth</th>\n",
       "      <th>DayOfWeek</th>\n",
       "      <th>DepTime</th>\n",
       "      <th>UniqueCarrier</th>\n",
       "      <th>Origin</th>\n",
       "      <th>Dest</th>\n",
       "      <th>Distance</th>\n",
       "      <th>dep_delayed_15min</th>\n",
       "    </tr>\n",
       "  </thead>\n",
       "  <tbody>\n",
       "    <tr>\n",
       "      <th>0</th>\n",
       "      <td>c-8</td>\n",
       "      <td>c-21</td>\n",
       "      <td>c-7</td>\n",
       "      <td>1934</td>\n",
       "      <td>AA</td>\n",
       "      <td>ATL</td>\n",
       "      <td>DFW</td>\n",
       "      <td>732</td>\n",
       "      <td>N</td>\n",
       "    </tr>\n",
       "    <tr>\n",
       "      <th>1</th>\n",
       "      <td>c-4</td>\n",
       "      <td>c-20</td>\n",
       "      <td>c-3</td>\n",
       "      <td>1548</td>\n",
       "      <td>US</td>\n",
       "      <td>PIT</td>\n",
       "      <td>MCO</td>\n",
       "      <td>834</td>\n",
       "      <td>N</td>\n",
       "    </tr>\n",
       "    <tr>\n",
       "      <th>2</th>\n",
       "      <td>c-9</td>\n",
       "      <td>c-2</td>\n",
       "      <td>c-5</td>\n",
       "      <td>1422</td>\n",
       "      <td>XE</td>\n",
       "      <td>RDU</td>\n",
       "      <td>CLE</td>\n",
       "      <td>416</td>\n",
       "      <td>N</td>\n",
       "    </tr>\n",
       "    <tr>\n",
       "      <th>3</th>\n",
       "      <td>c-11</td>\n",
       "      <td>c-25</td>\n",
       "      <td>c-6</td>\n",
       "      <td>1015</td>\n",
       "      <td>OO</td>\n",
       "      <td>DEN</td>\n",
       "      <td>MEM</td>\n",
       "      <td>872</td>\n",
       "      <td>N</td>\n",
       "    </tr>\n",
       "    <tr>\n",
       "      <th>4</th>\n",
       "      <td>c-10</td>\n",
       "      <td>c-7</td>\n",
       "      <td>c-6</td>\n",
       "      <td>1828</td>\n",
       "      <td>WN</td>\n",
       "      <td>MDW</td>\n",
       "      <td>OMA</td>\n",
       "      <td>423</td>\n",
       "      <td>Y</td>\n",
       "    </tr>\n",
       "  </tbody>\n",
       "</table>\n",
       "</div>"
      ]
     },
     "metadata": {},
     "execution_count": 9
    }
   ],
   "metadata": {
    "colab": {
     "base_uri": "https://localhost:8080/",
     "height": 204
    },
    "colab_type": "code",
    "id": "__4cXZ8iiYaC",
    "outputId": "8718ad4b-8955-486c-9ae8-1dee6aa6c2fb"
   }
  },
  {
   "cell_type": "markdown",
   "source": [
    "**<font color='teal'> Use the describe function to review the numeric columns in the train dataframe. </font>**"
   ],
   "metadata": {
    "colab_type": "text",
    "id": "UxGBsPQhffgd"
   }
  },
  {
   "cell_type": "code",
   "execution_count": 10,
   "source": [
    "train_df.describe()"
   ],
   "outputs": [
    {
     "output_type": "execute_result",
     "data": {
      "text/plain": [
       "             DepTime      Distance\n",
       "count  100000.000000  100000.00000\n",
       "mean     1341.523880     729.39716\n",
       "std       476.378445     574.61686\n",
       "min         1.000000      30.00000\n",
       "25%       931.000000     317.00000\n",
       "50%      1330.000000     575.00000\n",
       "75%      1733.000000     957.00000\n",
       "max      2534.000000    4962.00000"
      ],
      "text/html": [
       "<div>\n",
       "<style scoped>\n",
       "    .dataframe tbody tr th:only-of-type {\n",
       "        vertical-align: middle;\n",
       "    }\n",
       "\n",
       "    .dataframe tbody tr th {\n",
       "        vertical-align: top;\n",
       "    }\n",
       "\n",
       "    .dataframe thead th {\n",
       "        text-align: right;\n",
       "    }\n",
       "</style>\n",
       "<table border=\"1\" class=\"dataframe\">\n",
       "  <thead>\n",
       "    <tr style=\"text-align: right;\">\n",
       "      <th></th>\n",
       "      <th>DepTime</th>\n",
       "      <th>Distance</th>\n",
       "    </tr>\n",
       "  </thead>\n",
       "  <tbody>\n",
       "    <tr>\n",
       "      <th>count</th>\n",
       "      <td>100000.000000</td>\n",
       "      <td>100000.00000</td>\n",
       "    </tr>\n",
       "    <tr>\n",
       "      <th>mean</th>\n",
       "      <td>1341.523880</td>\n",
       "      <td>729.39716</td>\n",
       "    </tr>\n",
       "    <tr>\n",
       "      <th>std</th>\n",
       "      <td>476.378445</td>\n",
       "      <td>574.61686</td>\n",
       "    </tr>\n",
       "    <tr>\n",
       "      <th>min</th>\n",
       "      <td>1.000000</td>\n",
       "      <td>30.00000</td>\n",
       "    </tr>\n",
       "    <tr>\n",
       "      <th>25%</th>\n",
       "      <td>931.000000</td>\n",
       "      <td>317.00000</td>\n",
       "    </tr>\n",
       "    <tr>\n",
       "      <th>50%</th>\n",
       "      <td>1330.000000</td>\n",
       "      <td>575.00000</td>\n",
       "    </tr>\n",
       "    <tr>\n",
       "      <th>75%</th>\n",
       "      <td>1733.000000</td>\n",
       "      <td>957.00000</td>\n",
       "    </tr>\n",
       "    <tr>\n",
       "      <th>max</th>\n",
       "      <td>2534.000000</td>\n",
       "      <td>4962.00000</td>\n",
       "    </tr>\n",
       "  </tbody>\n",
       "</table>\n",
       "</div>"
      ]
     },
     "metadata": {},
     "execution_count": 10
    }
   ],
   "metadata": {
    "colab": {
     "base_uri": "https://localhost:8080/",
     "height": 297
    },
    "colab_type": "code",
    "id": "_bRRKG3DAtae",
    "outputId": "7cfb9975-ec97-422c-abbd-98923a0b7aec"
   }
  },
  {
   "cell_type": "markdown",
   "source": [
    "Notice, `DepTime` is the departure time in a numeric representation in 2400 hours. "
   ],
   "metadata": {
    "colab_type": "text",
    "id": "i6k-_fI5Aiyh"
   }
  },
  {
   "cell_type": "markdown",
   "source": [
    " **<font color='teal'>The response variable is 'dep_delayed_15min' which is a categorical column, so we need to map the Y for yes and N for no values to 1 and 0. Run the code in the next cell to do this.</font>**"
   ],
   "metadata": {
    "colab_type": "text",
    "id": "gtZS4-hrlQah"
   }
  },
  {
   "cell_type": "code",
   "execution_count": 11,
   "source": [
    "#train_df = train_df[train_df.DepTime <= 2400].copy()\n",
    "y_train = train_df['dep_delayed_15min'].map({'Y': 1, 'N': 0}).values"
   ],
   "outputs": [],
   "metadata": {
    "ExecuteTime": {
     "end_time": "2019-04-22T15:38:42.677690Z",
     "start_time": "2019-04-22T15:38:42.481963Z"
    },
    "colab": {},
    "colab_type": "code",
    "id": "yRlOTbnW-KYc"
   }
  },
  {
   "cell_type": "markdown",
   "source": [
    "## Feature Engineering\n",
    "Use these defined functions to create additional features for the model. Run the cell to add the functions to your workspace."
   ],
   "metadata": {
    "colab_type": "text",
    "id": "z3WPkFQO9uo9"
   }
  },
  {
   "cell_type": "code",
   "execution_count": 12,
   "source": [
    "def label_enc(df_column):\n",
    "    df_column = LabelEncoder().fit_transform(df_column)\n",
    "    return df_column\n",
    "\n",
    "def make_harmonic_features_sin(value, period=2400):\n",
    "    value *= 2 * np.pi / period \n",
    "    return np.sin(value)\n",
    "\n",
    "def make_harmonic_features_cos(value, period=2400):\n",
    "    value *= 2 * np.pi / period \n",
    "    return np.cos(value)\n",
    "\n",
    "def feature_eng(df):\n",
    "    df['flight'] = df['Origin']+df['Dest']\n",
    "    df['Month'] = df.Month.map(lambda x: x.split('-')[-1]).astype('int32')\n",
    "    df['DayofMonth'] = df.DayofMonth.map(lambda x: x.split('-')[-1]).astype('uint8')\n",
    "    df['begin_of_month'] = (df['DayofMonth'] < 10).astype('uint8')\n",
    "    df['midddle_of_month'] = ((df['DayofMonth'] >= 10)&(df['DayofMonth'] < 20)).astype('uint8')\n",
    "    df['end_of_month'] = (df['DayofMonth'] >= 20).astype('uint8')\n",
    "    df['DayOfWeek'] = df.DayOfWeek.map(lambda x: x.split('-')[-1]).astype('uint8')\n",
    "    df['hour'] = df.DepTime.map(lambda x: x/100).astype('int32')\n",
    "    df['morning'] = df['hour'].map(lambda x: 1 if (x <= 11)& (x >= 7) else 0).astype('uint8')\n",
    "    df['day'] = df['hour'].map(lambda x: 1 if (x >= 12) & (x <= 18) else 0).astype('uint8')\n",
    "    df['evening'] = df['hour'].map(lambda x: 1 if (x >= 19) & (x <= 23) else 0).astype('uint8')\n",
    "    df['night'] = df['hour'].map(lambda x: 1 if (x >= 0) & (x <= 6) else 0).astype('int32')\n",
    "    df['winter'] = df['Month'].map(lambda x: x in [12, 1, 2]).astype('int32')\n",
    "    df['spring'] = df['Month'].map(lambda x: x in [3, 4, 5]).astype('int32')\n",
    "    df['summer'] = df['Month'].map(lambda x: x in [6, 7, 8]).astype('int32')\n",
    "    df['autumn'] = df['Month'].map(lambda x: x in [9, 10, 11]).astype('int32')\n",
    "    df['holiday'] = (df['DayOfWeek'] >= 5).astype(int) \n",
    "    df['weekday'] = (df['DayOfWeek'] < 5).astype(int)\n",
    "    df['airport_dest_per_month'] = df.groupby(['Dest', 'Month'])['Dest'].transform('count')\n",
    "    df['airport_origin_per_month'] = df.groupby(['Origin', 'Month'])['Origin'].transform('count')\n",
    "    df['airport_dest_count'] = df.groupby(['Dest'])['Dest'].transform('count')\n",
    "    df['airport_origin_count'] = df.groupby(['Origin'])['Origin'].transform('count')\n",
    "    df['carrier_count'] = df.groupby(['UniqueCarrier'])['Dest'].transform('count')\n",
    "    df['carrier_count_per month'] = df.groupby(['UniqueCarrier', 'Month'])['Dest'].transform('count')\n",
    "    df['deptime_cos'] = df['DepTime'].map(make_harmonic_features_cos)\n",
    "    df['deptime_sin'] = df['DepTime'].map(make_harmonic_features_sin)\n",
    "    df['flightUC'] = df['flight']+df['UniqueCarrier']\n",
    "    df['DestUC'] = df['Dest']+df['UniqueCarrier']\n",
    "    df['OriginUC'] = df['Origin']+df['UniqueCarrier']\n",
    "    return df.drop('DepTime', axis=1)"
   ],
   "outputs": [],
   "metadata": {
    "colab": {},
    "colab_type": "code",
    "id": "cXqsqz5W9t3r"
   }
  },
  {
   "cell_type": "markdown",
   "source": [
    "Concatenate the training and testing dataframes.\n"
   ],
   "metadata": {
    "colab_type": "text",
    "id": "-BYbxXpU-FGE"
   }
  },
  {
   "cell_type": "code",
   "execution_count": 13,
   "source": [
    "full_df = pd.concat([train_df.drop('dep_delayed_15min', axis=1), test_df])\n",
    "full_df = feature_eng(full_df)"
   ],
   "outputs": [],
   "metadata": {
    "colab": {},
    "colab_type": "code",
    "id": "Cj6bfSNw_RAf"
   }
  },
  {
   "cell_type": "markdown",
   "source": [
    "Apply the earlier defined feature engineering functions to the full dataframe."
   ],
   "metadata": {
    "colab_type": "text",
    "id": "GSO8JbfM_W-F"
   }
  },
  {
   "cell_type": "code",
   "execution_count": 14,
   "source": [
    "for column in ['UniqueCarrier', 'Origin', 'Dest','flight',  'flightUC', 'DestUC', 'OriginUC']:\n",
    "    full_df[column] = label_enc(full_df[column])"
   ],
   "outputs": [],
   "metadata": {
    "colab": {},
    "colab_type": "code",
    "id": "x6RfAINftjwi"
   }
  },
  {
   "cell_type": "markdown",
   "source": [
    "\n",
    "Split the new full dataframe into X_train and X_test. "
   ],
   "metadata": {
    "colab_type": "text",
    "id": "IJAw1RGB_ZuM"
   }
  },
  {
   "cell_type": "code",
   "execution_count": 15,
   "source": [
    "X_train = full_df[:train_df.shape[0]]\n",
    "X_test = full_df[train_df.shape[0]:]"
   ],
   "outputs": [],
   "metadata": {
    "colab": {},
    "colab_type": "code",
    "id": "15cPtQU5tjfz"
   }
  },
  {
   "cell_type": "markdown",
   "source": [
    "Create a list of the categorical features."
   ],
   "metadata": {
    "colab_type": "text",
    "id": "umfAw-9JErLV"
   }
  },
  {
   "cell_type": "code",
   "execution_count": 16,
   "source": [
    "categorical_features = ['Month',  'DayOfWeek', 'UniqueCarrier', 'Origin', 'Dest','flight',  'flightUC', 'DestUC', 'OriginUC']"
   ],
   "outputs": [],
   "metadata": {
    "ExecuteTime": {
     "end_time": "2019-04-22T14:31:58.412296Z",
     "start_time": "2019-04-22T14:31:58.409088Z"
    },
    "colab": {},
    "colab_type": "code",
    "id": "5ibeVyNb-KZI"
   }
  },
  {
   "cell_type": "markdown",
   "source": [
    "Let's build a light GBM model to test the bayesian optimizer."
   ],
   "metadata": {
    "colab_type": "text",
    "id": "NzMIsMPIETVk"
   }
  },
  {
   "cell_type": "markdown",
   "source": [
    "### [LightGBM](https://lightgbm.readthedocs.io/en/latest/) is a gradient boosting framework that uses tree-based learning algorithms. It is designed to be distributed and efficient with the following advantages:\n",
    "\n",
    "* Faster training speed and higher efficiency.\n",
    "* Lower memory usage.\n",
    "* Better accuracy.\n",
    "* Support of parallel and GPU learning.\n",
    "* Capable of handling large-scale data."
   ],
   "metadata": {
    "ExecuteTime": {
     "end_time": "2019-04-22T15:18:04.466965Z",
     "start_time": "2019-04-22T15:18:04.457992Z"
    },
    "colab_type": "text",
    "id": "2hfm1i5G-KZH"
   }
  },
  {
   "cell_type": "markdown",
   "source": [
    "First, we define the function we want to maximize and that will count cross-validation metrics of lightGBM for our parameters.\n",
    "\n",
    "Some params such as num_leaves, max_depth, min_child_samples, min_data_in_leaf should be integers."
   ],
   "metadata": {
    "colab_type": "text",
    "id": "jf-3F2Wg-KZL"
   }
  },
  {
   "cell_type": "code",
   "execution_count": 17,
   "source": [
    "def lgb_eval(num_leaves,max_depth,lambda_l2,lambda_l1,min_child_samples, min_data_in_leaf):\n",
    "    params = {\n",
    "        \"objective\" : \"binary\",\n",
    "        \"metric\" : \"auc\", \n",
    "        'is_unbalance': True,\n",
    "        \"num_leaves\" : int(num_leaves),\n",
    "        \"max_depth\" : int(max_depth),\n",
    "        \"lambda_l2\" : lambda_l2,\n",
    "        \"lambda_l1\" : lambda_l1,\n",
    "        \"num_threads\" : 20,\n",
    "        \"min_child_samples\" : int(min_child_samples),\n",
    "        'min_data_in_leaf': int(min_data_in_leaf),\n",
    "        \"learning_rate\" : 0.03,\n",
    "        \"subsample_freq\" : 5,\n",
    "        \"bagging_seed\" : 42,\n",
    "        \"verbosity\" : -1\n",
    "    }\n",
    "    lgtrain = lightgbm.Dataset(X_train, y_train,categorical_feature=categorical_features)\n",
    "    cv_result = lightgbm.cv(params,\n",
    "                       lgtrain,\n",
    "                       1000,\n",
    "                       early_stopping_rounds=100,\n",
    "                       stratified=True,\n",
    "                       nfold=3)\n",
    "    return cv_result['auc-mean'][-1]"
   ],
   "outputs": [],
   "metadata": {
    "ExecuteTime": {
     "end_time": "2019-04-22T15:40:14.034265Z",
     "start_time": "2019-04-22T15:40:14.027868Z"
    },
    "colab": {},
    "colab_type": "code",
    "id": "LyUJBhGX-KZM"
   }
  },
  {
   "cell_type": "markdown",
   "source": [
    "Apply the Bayesian optimizer to the function we created in the previous step to identify the best hyperparameters. We will run 10 iterations and set init_points = 2.\n"
   ],
   "metadata": {
    "colab_type": "text",
    "id": "FJwqBhdeF11Q"
   }
  },
  {
   "cell_type": "code",
   "execution_count": 18,
   "source": [
    "#artunart: Results are already stored in 'lgbBO_res' You can stop this process (~700sec) and go to the next cell.\n",
    "lgbBO = BayesianOptimization(lgb_eval, {'num_leaves': (25, 4000),\n",
    "                                        'max_depth': (5, 63),\n",
    "                                        'lambda_l2': (0.0, 0.05),\n",
    "                                        'lambda_l1': (0.0, 0.05),\n",
    "                                        'min_child_samples': (50, 10000),\n",
    "                                        'min_data_in_leaf': (100, 2000)\n",
    "                                                })\n",
    "\n",
    "lgbBO.maximize(n_iter=15, init_points=2)"
   ],
   "outputs": [
    {
     "output_type": "stream",
     "name": "stdout",
     "text": [
      "|   iter    |  target   | lambda_l1 | lambda_l2 | max_depth | min_ch... | min_da... | num_le... |\n",
      "-------------------------------------------------------------------------------------------------\n",
      "[LightGBM] [Warning] min_data_in_leaf is set=1354, min_child_samples=7061 will be ignored. Current value: min_data_in_leaf=1354\n",
      "| \u001b[0m 1       \u001b[0m | \u001b[0m 0.7432  \u001b[0m | \u001b[0m 0.03558 \u001b[0m | \u001b[0m 0.01172 \u001b[0m | \u001b[0m 24.26   \u001b[0m | \u001b[0m 7.061e+0\u001b[0m | \u001b[0m 1.354e+0\u001b[0m | \u001b[0m 2.003e+0\u001b[0m |\n",
      "| \u001b[0m 2       \u001b[0m | \u001b[0m 0.743   \u001b[0m | \u001b[0m 0.001962\u001b[0m | \u001b[0m 0.002677\u001b[0m | \u001b[0m 7.929   \u001b[0m | \u001b[0m 5.497e+0\u001b[0m | \u001b[0m 1.483e+0\u001b[0m | \u001b[0m 373.4   \u001b[0m |\n",
      "| \u001b[0m 3       \u001b[0m | \u001b[0m 0.7198  \u001b[0m | \u001b[0m 0.03216 \u001b[0m | \u001b[0m 0.02328 \u001b[0m | \u001b[0m 62.16   \u001b[0m | \u001b[0m 1.916e+0\u001b[0m | \u001b[0m 412.3   \u001b[0m | \u001b[0m 2.332e+0\u001b[0m |\n",
      "| \u001b[0m 4       \u001b[0m | \u001b[0m 0.7249  \u001b[0m | \u001b[0m 0.02198 \u001b[0m | \u001b[0m 0.02143 \u001b[0m | \u001b[0m 43.41   \u001b[0m | \u001b[0m 5.148e+0\u001b[0m | \u001b[0m 628.2   \u001b[0m | \u001b[0m 3.11e+03\u001b[0m |\n",
      "| \u001b[0m 5       \u001b[0m | \u001b[0m 0.7289  \u001b[0m | \u001b[0m 0.009922\u001b[0m | \u001b[0m 0.02366 \u001b[0m | \u001b[0m 55.57   \u001b[0m | \u001b[0m 4.289e+0\u001b[0m | \u001b[0m 876.4   \u001b[0m | \u001b[0m 2.855e+0\u001b[0m |\n",
      "| \u001b[0m 6       \u001b[0m | \u001b[0m 0.7271  \u001b[0m | \u001b[0m 0.004199\u001b[0m | \u001b[0m 0.01936 \u001b[0m | \u001b[0m 6.097   \u001b[0m | \u001b[0m 1.738e+0\u001b[0m | \u001b[0m 600.4   \u001b[0m | \u001b[0m 1.003e+0\u001b[0m |\n",
      "| \u001b[95m 7       \u001b[0m | \u001b[95m 0.7432  \u001b[0m | \u001b[95m 0.0328  \u001b[0m | \u001b[95m 0.02372 \u001b[0m | \u001b[95m 44.57   \u001b[0m | \u001b[95m 1.453e+0\u001b[0m | \u001b[95m 1.969e+0\u001b[0m | \u001b[95m 1.71e+03\u001b[0m |\n",
      "| \u001b[95m 8       \u001b[0m | \u001b[95m 0.7438  \u001b[0m | \u001b[95m 0.04859 \u001b[0m | \u001b[95m 0.03449 \u001b[0m | \u001b[95m 17.18   \u001b[0m | \u001b[95m 4.069e+0\u001b[0m | \u001b[95m 1.456e+0\u001b[0m | \u001b[95m 2.389e+0\u001b[0m |\n",
      "| \u001b[0m 9       \u001b[0m | \u001b[0m 0.7319  \u001b[0m | \u001b[0m 0.00783 \u001b[0m | \u001b[0m 0.02212 \u001b[0m | \u001b[0m 31.34   \u001b[0m | \u001b[0m 4.372e+0\u001b[0m | \u001b[0m 954.7   \u001b[0m | \u001b[0m 2.81e+03\u001b[0m |\n",
      "| \u001b[0m 10      \u001b[0m | \u001b[0m 0.7437  \u001b[0m | \u001b[0m 0.04869 \u001b[0m | \u001b[0m 0.03733 \u001b[0m | \u001b[0m 47.19   \u001b[0m | \u001b[0m 4.549e+0\u001b[0m | \u001b[0m 1.595e+0\u001b[0m | \u001b[0m 1.95e+03\u001b[0m |\n",
      "| \u001b[0m 11      \u001b[0m | \u001b[0m 0.7209  \u001b[0m | \u001b[0m 0.01909 \u001b[0m | \u001b[0m 0.03385 \u001b[0m | \u001b[0m 41.22   \u001b[0m | \u001b[0m 1.934e+0\u001b[0m | \u001b[0m 215.4   \u001b[0m | \u001b[0m 363.9   \u001b[0m |\n",
      "| \u001b[0m 12      \u001b[0m | \u001b[0m 0.7436  \u001b[0m | \u001b[0m 0.02753 \u001b[0m | \u001b[0m 0.009672\u001b[0m | \u001b[0m 9.878   \u001b[0m | \u001b[0m 6.048e+0\u001b[0m | \u001b[0m 1.704e+0\u001b[0m | \u001b[0m 1.426e+0\u001b[0m |\n",
      "| \u001b[0m 13      \u001b[0m | \u001b[0m 0.7425  \u001b[0m | \u001b[0m 0.02774 \u001b[0m | \u001b[0m 0.04325 \u001b[0m | \u001b[0m 11.14   \u001b[0m | \u001b[0m 6.967e+0\u001b[0m | \u001b[0m 1.289e+0\u001b[0m | \u001b[0m 580.3   \u001b[0m |\n",
      "| \u001b[0m 14      \u001b[0m | \u001b[0m 0.72    \u001b[0m | \u001b[0m 0.04752 \u001b[0m | \u001b[0m 0.04449 \u001b[0m | \u001b[0m 45.71   \u001b[0m | \u001b[0m 6.168e+0\u001b[0m | \u001b[0m 284.7   \u001b[0m | \u001b[0m 1.009e+0\u001b[0m |\n",
      "| \u001b[0m 15      \u001b[0m | \u001b[0m 0.7433  \u001b[0m | \u001b[0m 0.04975 \u001b[0m | \u001b[0m 0.04456 \u001b[0m | \u001b[0m 43.94   \u001b[0m | \u001b[0m 5.944e+0\u001b[0m | \u001b[0m 1.732e+0\u001b[0m | \u001b[0m 3.85e+03\u001b[0m |\n",
      "| \u001b[0m 16      \u001b[0m | \u001b[0m 0.7436  \u001b[0m | \u001b[0m 0.03773 \u001b[0m | \u001b[0m 0.04104 \u001b[0m | \u001b[0m 21.61   \u001b[0m | \u001b[0m 6.395e+0\u001b[0m | \u001b[0m 1.974e+0\u001b[0m | \u001b[0m 2.742e+0\u001b[0m |\n",
      "| \u001b[0m 17      \u001b[0m | \u001b[0m 0.7433  \u001b[0m | \u001b[0m 0.01702 \u001b[0m | \u001b[0m 0.03985 \u001b[0m | \u001b[0m 58.33   \u001b[0m | \u001b[0m 7.811e+0\u001b[0m | \u001b[0m 1.951e+0\u001b[0m | \u001b[0m 1.217e+0\u001b[0m |\n",
      "=================================================================================================\n"
     ]
    }
   ],
   "metadata": {
    "ExecuteTime": {
     "end_time": "2019-04-22T15:48:04.682447Z",
     "start_time": "2019-04-22T15:40:14.641634Z"
    },
    "colab": {
     "base_uri": "https://localhost:8080/",
     "height": 51
    },
    "colab_type": "code",
    "id": "JheCOkUE-KZP",
    "outputId": "8f37ee51-885d-44e4-cdcd-ceb7abd58b61"
   }
  },
  {
   "cell_type": "markdown",
   "source": [
    " **<font color='teal'> Print the best result by using the '.max' function.</font>**"
   ],
   "metadata": {
    "colab_type": "text",
    "id": "rdkxhhST-KZS"
   }
  },
  {
   "cell_type": "code",
   "execution_count": 22,
   "source": [
    "#artunart: New cell for load/save.\n",
    "\n",
    "import json\n",
    "# help(json.dump)\n",
    "lgbBO_res = lgbBO.res\n",
    "\n",
    "if os.path.exists('lgbBO_res'):\n",
    "    f = open('lgbBO_res', 'rt')\n",
    "    lgbBO_res = json.load(f)\n",
    "else: \n",
    "    f = open('lgbBO_res','wt')\n",
    "    json.dump(lgbBO_res,f)\n",
    "\n",
    "print(max(zip(range(1,len(lgbBO_res)+1),lgbBO_res), key=lambda x: x[1]['target']))"
   ],
   "outputs": [
    {
     "output_type": "stream",
     "name": "stdout",
     "text": [
      "(8, {'target': 0.7437754920820328, 'params': {'lambda_l1': 0.04859012233201226, 'lambda_l2': 0.03449279780156486, 'max_depth': 17.175627710324356, 'min_child_samples': 4069.4958514413797, 'min_data_in_leaf': 1456.1774665539149, 'num_leaves': 2388.7085834019613}})\n"
     ]
    }
   ],
   "metadata": {
    "ExecuteTime": {
     "end_time": "2019-04-22T15:49:01.513767Z",
     "start_time": "2019-04-22T15:49:01.509392Z"
    },
    "colab": {},
    "colab_type": "code",
    "id": "oc8z6mfy-KZS"
   }
  },
  {
   "cell_type": "markdown",
   "source": [
    "Review the process at each step by using the '.res[0]' function."
   ],
   "metadata": {
    "ExecuteTime": {
     "end_time": "2019-04-22T15:50:29.049881Z",
     "start_time": "2019-04-22T15:50:29.045908Z"
    },
    "colab_type": "text",
    "id": "J5LAydKC-KZW"
   }
  },
  {
   "cell_type": "code",
   "execution_count": 23,
   "source": [
    "lgbBO_res[0]"
   ],
   "outputs": [
    {
     "output_type": "execute_result",
     "data": {
      "text/plain": [
       "{'target': 0.743212182375896,\n",
       " 'params': {'lambda_l1': 0.03557912725198774,\n",
       "  'lambda_l2': 0.01171568089601679,\n",
       "  'max_depth': 24.256826468405333,\n",
       "  'min_child_samples': 7061.137105886082,\n",
       "  'min_data_in_leaf': 1354.4414800114293,\n",
       "  'num_leaves': 2003.2817161063408}}"
      ]
     },
     "metadata": {},
     "execution_count": 23
    }
   ],
   "metadata": {
    "ExecuteTime": {
     "end_time": "2019-04-22T15:51:01.001688Z",
     "start_time": "2019-04-22T15:51:00.997484Z"
    },
    "colab": {},
    "colab_type": "code",
    "id": "X1ttZmrI-KZX"
   }
  },
  {
   "cell_type": "code",
   "execution_count": 24,
   "source": [
    "res_df_target = pd.DataFrame(data=[_['target'] for _ in lgbBO_res], columns=['target'])\n",
    "res_param_df = pd.DataFrame(data=[_['params'] for _ in lgbBO_res])\n",
    "res_df = pd.concat([res_df_target, res_param_df], axis=1)\n",
    "res_df.index= range(1, len(res_df)+1)\n",
    "print(res_df)"
   ],
   "outputs": [
    {
     "output_type": "stream",
     "name": "stdout",
     "text": [
      "      target  lambda_l1  lambda_l2  max_depth  min_child_samples  \\\n",
      "1   0.743212   0.035579   0.011716  24.256826        7061.137106   \n",
      "2   0.742993   0.001962   0.002677   7.928531        5496.856000   \n",
      "3   0.719760   0.032163   0.023281  62.160664        1915.853487   \n",
      "4   0.724944   0.021981   0.021431  43.410293        5148.396258   \n",
      "5   0.728859   0.009922   0.023658  55.565421        4289.259664   \n",
      "6   0.727098   0.004199   0.019357   6.096539        1737.810070   \n",
      "7   0.743247   0.032800   0.023722  44.567258        1453.303219   \n",
      "8   0.743775   0.048590   0.034493  17.175628        4069.495851   \n",
      "9   0.731910   0.007830   0.022123  31.336748        4372.153314   \n",
      "10  0.743687   0.048690   0.037335  47.186785        4548.705037   \n",
      "11  0.720927   0.019090   0.033846  41.223639        1933.785976   \n",
      "12  0.743604   0.027534   0.009672   9.878156        6048.051453   \n",
      "13  0.742541   0.027738   0.043255  11.139714        6967.224181   \n",
      "14  0.720026   0.047522   0.044488  45.710336        6168.439593   \n",
      "15  0.743251   0.049750   0.044561  43.944514        5944.445286   \n",
      "16  0.743605   0.037732   0.041041  21.613738        6394.629573   \n",
      "17  0.743335   0.017016   0.039849  58.325432        7810.802256   \n",
      "\n",
      "    min_data_in_leaf   num_leaves  \n",
      "1        1354.441480  2003.281716  \n",
      "2        1483.188474   373.380363  \n",
      "3         412.307467  2331.918825  \n",
      "4         628.227378  3109.558023  \n",
      "5         876.441855  2854.779676  \n",
      "6         600.390147  1003.118732  \n",
      "7        1969.217149  1709.939801  \n",
      "8        1456.177467  2388.708583  \n",
      "9         954.701229  2810.131154  \n",
      "10       1594.574601  1949.520954  \n",
      "11        215.362470   363.850468  \n",
      "12       1704.439937  1425.500601  \n",
      "13       1288.528996   580.348637  \n",
      "14        284.671425  1009.451611  \n",
      "15       1731.922302  3850.475065  \n",
      "16       1974.399726  2742.185795  \n",
      "17       1950.795047  1217.212781  \n"
     ]
    }
   ],
   "metadata": {}
  },
  {
   "cell_type": "markdown",
   "source": [
    "artunart: \n",
    "\n",
    "Above is the parameter evolution in a dataframe. However, in that form, it's not easy to grasp the directional changes in search across iterations.\n",
    "\n",
    "Below is a cosine similarity graph across iterations which will help interpret the parameter evolution in a different way. The blue arrow shows the direction in which iterations move forward [e.g. cosine similarity between iterations 1 and 2, etc.]. Colors represent the degree of similarity - lighter colors being more similar.\n",
    "\n",
    "What's interesting to me are the relatively darker squares - which indicate deviation from the previous parameter selection. In this sequential evolution, the existance of those might indicate that the algorithm has the capability to move forward in jumps and how frequently that came to happen.\n",
    "\n",
    "\n"
   ],
   "metadata": {}
  },
  {
   "cell_type": "code",
   "execution_count": 30,
   "source": [
    "from sklearn.metrics.pairwise import cosine_similarity\n",
    "import seaborn as sns\n",
    "ax = sns.heatmap(cosine_similarity(res_df.drop(['target'], axis=1)), square=True)\n",
    "ax.set_xticklabels(range(1,len(res_df)+1))\n",
    "ax.set_yticklabels(range(1,len(res_df)+1))\n",
    "ax.set_xlabel('Iterations')\n",
    "ax.set_ylabel('Iterations')\n",
    "ax.set_title('Parameter Set Cosine Similarity Across Iterations')\n",
    "ax.arrow(0.5,1.5,len(res_df)-2,len(res_df)-2, head_width=0.6, head_length=0.2, width=0.1, fc='blue', ec='blue')"
   ],
   "outputs": [
    {
     "output_type": "execute_result",
     "data": {
      "text/plain": [
       "<matplotlib.patches.FancyArrow at 0x1518ced60>"
      ]
     },
     "metadata": {},
     "execution_count": 30
    },
    {
     "output_type": "display_data",
     "data": {
      "text/plain": [
       "<Figure size 432x288 with 2 Axes>"
      ],
      "image/png": "[encoded data removed]"
     },
     "metadata": {
      "needs_background": "light"
     }
    }
   ],
   "metadata": {}
  }
 ],
 "metadata": {
  "colab": {
   "name": "Bayesian_optimization_exercise.ipynb",
   "provenance": []
  },
  "deepnote_execution_queue": [],
  "kernelspec": {
   "name": "python3",
   "display_name": "Python 3.9.4 64-bit ('junk391': conda)"
  },
  "language_info": {
   "codemirror_mode": {
    "name": "ipython",
    "version": 3
   },
   "file_extension": ".py",
   "mimetype": "text/x-python",
   "name": "python",
   "nbconvert_exporter": "python",
   "pygments_lexer": "ipython3",
   "version": "3.9.4"
  },
  "varInspector": {
   "cols": {
    "lenName": 16,
    "lenType": 16,
    "lenVar": 40
   },
   "kernels_config": {
    "python": {
     "delete_cmd_postfix": "",
     "delete_cmd_prefix": "del ",
     "library": "var_list.py",
     "varRefreshCmd": "print(var_dic_list())"
    },
    "r": {
     "delete_cmd_postfix": ") ",
     "delete_cmd_prefix": "rm(",
     "library": "var_list.r",
     "varRefreshCmd": "cat(var_dic_list()) "
    }
   },
   "types_to_exclude": [
    "module",
    "function",
    "builtin_function_or_method",
    "instance",
    "_Feature"
   ],
   "window_display": false
  },
  "interpreter": {
   "hash": "220e10ff8ec8c0a2ee704b9ba1623fbaf79aa98a681a616ca665c089912d6d5d"
  }
 },
 "nbformat": 4,
 "nbformat_minor": 1
}